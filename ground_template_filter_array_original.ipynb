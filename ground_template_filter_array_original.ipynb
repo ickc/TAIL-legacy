{
 "cells": [
  {
   "cell_type": "markdown",
   "metadata": {
    "deletable": true,
    "editable": true
   },
   "source": [
    "# Code"
   ]
  },
  {
   "cell_type": "code",
   "execution_count": null,
   "metadata": {
    "collapsed": false
   },
   "outputs": [],
   "source": [
    "import weave"
   ]
  },
  {
   "cell_type": "code",
   "execution_count": null,
   "metadata": {
    "collapsed": false,
    "deletable": true,
    "editable": true
   },
   "outputs": [],
   "source": [
    "def simple_map_prepare(nCh, nPix):\n",
    "    \"\"\"\n",
    "    Prepare a simple map.\n",
    "    \n",
    "    Parameters\n",
    "    ----------\n",
    "    nCh: int\n",
    "        Number of channels\n",
    "    nPix: int\n",
    "        Number of pixels\n",
    "    \n",
    "    Returns\n",
    "    -------\n",
    "    signal_map: ndarray\n",
    "        an array of length nCh, where each entry is a length-nPix zero array.\n",
    "    hits_map: ndarray\n",
    "        same as above with dtype int32\n",
    "    \"\"\"\n",
    "    signal_map = np.zeros((nCh, nPix))\n",
    "    hits_map = np.zeros((nCh, nPix), dtype=np.int32)\n",
    "    return signal_map, hits_map"
   ]
  },
  {
   "cell_type": "code",
   "execution_count": null,
   "metadata": {
    "collapsed": false,
    "deletable": true,
    "editable": true
   },
   "outputs": [],
   "source": [
    "def simple_map(signal_map,hits_map,pointing,mask,array):\n",
    "\t''' Map timestream into a signal map '''\n",
    "\tnch,nt = array.shape\n",
    "\tnpix = signal_map.shape[1]\n",
    "\tassert signal_map.dtype == array.dtype\n",
    "\tassert mask.dtype == np.bool\n",
    "\t\n",
    "\tc_code = '''\n",
    "\tint ch,t;\n",
    "\tint pix;\n",
    "\tfor(ch=0;ch<nch;ch++) {\n",
    "\t\tfor(t=0;t<nt;t++) {\n",
    "\t\t\tpix = pointing(t);\n",
    "\t\t\tsignal_map(ch,pix) += array(ch,t)*mask(ch,t);\n",
    "\t\t\thits_map(ch,pix) += mask(ch,t);\n",
    "\t\t}\n",
    "\t}\n",
    "\n",
    "\tfor(ch=0;ch<nch;ch++) {\n",
    "\t\tfor(pix=0;pix<npix;pix++) {\n",
    "\t\t\tif(hits_map(ch,pix) > 0) {\n",
    "\t\t\t\tsignal_map(ch,pix) /= hits_map(ch,pix);\n",
    "\t\t\t}\n",
    "\t\t}\n",
    "\t}\n",
    "\t'''\n",
    "\n",
    "\tweave.inline(c_code,['array','pointing','mask','signal_map','hits_map','nch','nt','npix'],type_converters=weave.converters.blitz)"
   ]
  },
  {
   "cell_type": "code",
   "execution_count": null,
   "metadata": {
    "collapsed": false,
    "deletable": true,
    "editable": true
   },
   "outputs": [],
   "source": [
    "def simple_scan_subtract(signal_map,pointing,array):\n",
    "\t''' Directly subtract signal map from array '''\n",
    "\tnch,nt = array.shape\n",
    "\tnpix = signal_map.shape[1]\n",
    "\n",
    "\tassert np.max(pointing) < npix\n",
    "\tassert np.min(pointing) >= 0\n",
    "\n",
    "\tc_code = '''\n",
    "\tint ch,t;\n",
    "\tint pix;\n",
    "\tfor(ch=0;ch<nch;ch++) {\n",
    "\t\tfor(t=0;t<nt;t++) {\n",
    "\t\t\tpix = pointing(t);\n",
    "\t\t\tarray(ch,t) -= signal_map(ch,pix);\n",
    "\t\t}\n",
    "\t}\n",
    "\t'''\n",
    "\n",
    "\tweave.inline(c_code,['array','pointing','npix','nt','nch','signal_map'],type_converters=weave.converters.blitz)"
   ]
  },
  {
   "cell_type": "code",
   "execution_count": null,
   "metadata": {
    "collapsed": false,
    "deletable": true,
    "editable": true
   },
   "outputs": [],
   "source": [
    "def ground_template_filter_array(\n",
    "        input_array,\n",
    "        az,\n",
    "        mask,\n",
    "        pixel_size,\n",
    "        groundmap=False,\n",
    "        lr=False,\n",
    "        filtmask=None):\n",
    "    '''\n",
    "    Remove ground template from array timestreams\n",
    "\n",
    "    Parameters\n",
    "    ----------\n",
    "    input_array: array_like\n",
    "        shape: (number of channels, number of time steps)\n",
    "        Input timestream, mutated inplace.\n",
    "    az: array_like\n",
    "        shape: input_array[0]\n",
    "        The azimuth of the timestream.\n",
    "    mask: array_like\n",
    "        shape: input_array\n",
    "        dtype: bool\n",
    "    pixel_size: float\n",
    "    groundmap: bool\n",
    "        If groundmap = True, then do the exact opposite,\n",
    "        and remove component from timestream that isn't fixed with the ground\n",
    "    lr: bool\n",
    "        If true, ground substraction done separately on left and right moving scans\n",
    "    filtmask: array_like\n",
    "        shape: input_array\n",
    "        dtype: bool\n",
    "        filtmask means to compute the filter template with that subset of the data,\n",
    "        operation is applied to data specified by mask\n",
    "        In largepatch filtmask refers to wafermask_chan_filt\n",
    "    '''\n",
    "    # initialize\n",
    "    nCh, nTime = input_array.shape\n",
    "    az_min = np.min(az)\n",
    "    az_max = np.max(az)\n",
    "    az_range = az_max - az_min\n",
    "    if filtmask is None:\n",
    "        filtmask = mask\n",
    "\n",
    "    assert input_array.shape == mask.shape == filtmask.shape\n",
    "    assert az.size == nTime\n",
    "\n",
    "    # Calculate number of pixels given the pixel size\n",
    "    nPix = int(np.round(az_range / pixel_size))\n",
    "    assert nPix > 3\n",
    "    # recalculate pixel_size (because nPix is int)\n",
    "    pixel_size = az_range / nPix\n",
    "\n",
    "    # bin at nPix is used as a junk pixel\n",
    "    signal_map, hits_map = simple_map_prepare(nCh, nPix + 1)\n",
    "\n",
    "    # get pointing\n",
    "    pointing = np.int_(np.floor(nPix * (az - az_min) / az_range))\n",
    "    # One point with az = az_max will end up one bin too far left\n",
    "    pointing[pointing == nPix] = nPix - 1\n",
    "\n",
    "    if groundmap:\n",
    "        array_in = input_array.copy()\n",
    "\n",
    "    if lr:\n",
    "        vaz = np.gradient(az)\n",
    "        # select left / right moving timestream\n",
    "        l = vaz >= 0\n",
    "        r = vaz < 0\n",
    "        pointingL = pointing.copy()\n",
    "        pointingL[~l] = nPix\n",
    "        pointingR = pointing.copy()\n",
    "        pointingR[~r] = nPix\n",
    "\n",
    "        simple_map(signal_map, hits_map, pointingL, filtmask, input_array)\n",
    "        signal_map[:, nPix] = 0\n",
    "        simple_scan_subtract(signal_map, pointingL, input_array)\n",
    "        signal_map[:] = 0\n",
    "        hits_map[:] = 0\n",
    "        simple_map(signal_map, hits_map, pointingR, filtmask, input_array)\n",
    "        signal_map[:, nPix] = 0\n",
    "        simple_scan_subtract(signal_map, pointingR, input_array)\n",
    "    else:\n",
    "        simple_map(signal_map, hits_map, pointing, filtmask, input_array)\n",
    "        simple_scan_subtract(signal_map, pointing, input_array)\n",
    "\n",
    "    if groundmap:\n",
    "        input_array[:, :] = array_in - input_array"
   ]
  },
  {
   "cell_type": "markdown",
   "metadata": {
    "collapsed": true,
    "deletable": true,
    "editable": true
   },
   "source": [
    "# Tests"
   ]
  },
  {
   "cell_type": "code",
   "execution_count": null,
   "metadata": {
    "collapsed": true,
    "deletable": true,
    "editable": true
   },
   "outputs": [],
   "source": [
    "import numpy as np\n",
    "from numpy.testing import assert_allclose\n",
    "\n",
    "def assertIdenticalList(list1, list2, rtol):\n",
    "    for i, list1i in enumerate(list1):\n",
    "        if isinstance(list1i, bool):\n",
    "            assert list1i is list2[i]\n",
    "        else:\n",
    "            assert_allclose(list1i, list2[i], rtol)"
   ]
  },
  {
   "cell_type": "code",
   "execution_count": null,
   "metadata": {
    "collapsed": false,
    "deletable": true,
    "editable": true
   },
   "outputs": [],
   "source": [
    "import pickle\n",
    "import sys\n",
    "py2 = sys.version_info[0] == 2\n",
    "\n",
    "\n",
    "def test_ground_template_filter_array(rtol=1e-7):\n",
    "    with open('tests/timestream/ground_template_filter_array_input.pkl', 'rb') as f:\n",
    "        if not py2:\n",
    "            ground_template_filter_array_input = pickle.load(\n",
    "                f, encoding='latin1')\n",
    "        else:\n",
    "            ground_template_filter_array_input = pickle.load(f)\n",
    "    with open('tests/timestream/ground_template_filter_array_output.pkl', 'rb') as f:\n",
    "        if not py2:\n",
    "            ground_template_filter_array_output = pickle.load(\n",
    "                f, encoding='latin1')\n",
    "        else:\n",
    "            ground_template_filter_array_output = pickle.load(f)\n",
    "    ground_template_filter_array(*ground_template_filter_array_input)\n",
    "    assertIdenticalList(\n",
    "        ground_template_filter_array_input,\n",
    "        ground_template_filter_array_output,\n",
    "        rtol)\n",
    "\n",
    "    # debug\n",
    "    return ground_template_filter_array_input, ground_template_filter_array_output"
   ]
  },
  {
   "cell_type": "markdown",
   "metadata": {
    "deletable": true,
    "editable": true
   },
   "source": [
    "# Playground"
   ]
  },
  {
   "cell_type": "code",
   "execution_count": null,
   "metadata": {
    "collapsed": false,
    "deletable": true,
    "editable": true
   },
   "outputs": [],
   "source": [
    "with open('tests/timestream/ground_template_filter_array_input.pkl', 'rb') as f:\n",
    "    ground_template_filter_array_input = pickle.load(f)\n",
    "with open('tests/timestream/ground_template_filter_array_output.pkl', 'rb') as f:\n",
    "    ground_template_filter_array_output = pickle.load(f)"
   ]
  },
  {
   "cell_type": "code",
   "execution_count": null,
   "metadata": {
    "collapsed": false,
    "deletable": true,
    "editable": true
   },
   "outputs": [],
   "source": [
    "for i in ground_template_filter_array_input:\n",
    "    print(type(i), i)"
   ]
  },
  {
   "cell_type": "code",
   "execution_count": null,
   "metadata": {
    "collapsed": false,
    "deletable": true,
    "editable": true
   },
   "outputs": [],
   "source": [
    "for i in ground_template_filter_array_output:\n",
    "    print(type(i), i)"
   ]
  },
  {
   "cell_type": "code",
   "execution_count": null,
   "metadata": {
    "collapsed": false,
    "deletable": true,
    "editable": true
   },
   "outputs": [],
   "source": [
    "for i, __ in enumerate(ground_template_filter_array_input):\n",
    "    print(np.array_equal(ground_template_filter_array_input[i], ground_template_filter_array_output[i]))"
   ]
  },
  {
   "cell_type": "code",
   "execution_count": null,
   "metadata": {
    "collapsed": false,
    "deletable": true,
    "editable": true
   },
   "outputs": [],
   "source": [
    "for i in ground_template_filter_array_input:\n",
    "    if type(i) == np.ndarray:\n",
    "        print(i.dtype)"
   ]
  },
  {
   "cell_type": "code",
   "execution_count": null,
   "metadata": {
    "collapsed": true,
    "deletable": true,
    "editable": true
   },
   "outputs": [],
   "source": [
    "input_array, az, mask, pixel_size, groundmap, lr, filtmask = ground_template_filter_array_input"
   ]
  },
  {
   "cell_type": "code",
   "execution_count": null,
   "metadata": {
    "collapsed": false,
    "deletable": true,
    "editable": true
   },
   "outputs": [],
   "source": [
    "input_array"
   ]
  },
  {
   "cell_type": "code",
   "execution_count": null,
   "metadata": {
    "collapsed": true,
    "deletable": true,
    "editable": true
   },
   "outputs": [],
   "source": [
    "%matplotlib inline\n",
    "import matplotlib.pyplot as plt"
   ]
  },
  {
   "cell_type": "markdown",
   "metadata": {
    "deletable": true,
    "editable": true
   },
   "source": [
    "# Input plot"
   ]
  },
  {
   "cell_type": "code",
   "execution_count": null,
   "metadata": {
    "collapsed": false,
    "deletable": true,
    "editable": true
   },
   "outputs": [],
   "source": [
    "plt.plot(input_array[0])"
   ]
  },
  {
   "cell_type": "code",
   "execution_count": null,
   "metadata": {
    "collapsed": false,
    "deletable": true,
    "editable": true
   },
   "outputs": [],
   "source": [
    "plt.plot(input_array[0] * mask[0])"
   ]
  },
  {
   "cell_type": "code",
   "execution_count": null,
   "metadata": {
    "collapsed": false,
    "deletable": true,
    "editable": true
   },
   "outputs": [],
   "source": [
    "plt.plot(az)"
   ]
  },
  {
   "cell_type": "code",
   "execution_count": null,
   "metadata": {
    "collapsed": false,
    "deletable": true,
    "editable": true
   },
   "outputs": [],
   "source": [
    "plt.plot(mask[0])"
   ]
  },
  {
   "cell_type": "code",
   "execution_count": null,
   "metadata": {
    "collapsed": false,
    "deletable": true,
    "editable": true
   },
   "outputs": [],
   "source": [
    "plt.plot(filtmask[0])"
   ]
  },
  {
   "cell_type": "code",
   "execution_count": null,
   "metadata": {
    "collapsed": false,
    "deletable": true,
    "editable": true
   },
   "outputs": [],
   "source": [
    "np.array_equal(mask[0], filtmask[0])"
   ]
  },
  {
   "cell_type": "markdown",
   "metadata": {
    "collapsed": true,
    "deletable": true,
    "editable": true
   },
   "source": [
    "# Output"
   ]
  },
  {
   "cell_type": "code",
   "execution_count": null,
   "metadata": {
    "collapsed": false,
    "deletable": true,
    "editable": true
   },
   "outputs": [],
   "source": [
    "%%timeit\n",
    "output_array = input_array.copy()\n",
    "ground_template_filter_array(output_array, az, mask, pixel_size)"
   ]
  },
  {
   "cell_type": "code",
   "execution_count": null,
   "metadata": {
    "collapsed": false,
    "deletable": true,
    "editable": true
   },
   "outputs": [],
   "source": [
    "output_array = input_array.copy()\n",
    "ground_template_filter_array(output_array, az, mask, pixel_size)"
   ]
  },
  {
   "cell_type": "code",
   "execution_count": null,
   "metadata": {
    "collapsed": false,
    "deletable": true,
    "editable": true
   },
   "outputs": [],
   "source": [
    "plt.plot(output_array[0])"
   ]
  },
  {
   "cell_type": "code",
   "execution_count": null,
   "metadata": {
    "collapsed": false,
    "deletable": true,
    "editable": true
   },
   "outputs": [],
   "source": [
    "test_ground_template_filter_array(rtol=1e-3)"
   ]
  },
  {
   "cell_type": "markdown",
   "metadata": {},
   "source": [
    "# timeit"
   ]
  },
  {
   "cell_type": "code",
   "execution_count": null,
   "metadata": {
    "collapsed": false
   },
   "outputs": [],
   "source": [
    "def simulate_ground_input(nCh, nTime, nPix):\n",
    "    az_time_width = 400\n",
    "    az_min = 3.5\n",
    "    az_max = 4.\n",
    "    az_range = az_max - az_min\n",
    "\n",
    "    input_array = (np.random.rand(nCh, nTime) - 0.5) * 0.2\n",
    "\n",
    "    az = np.array([(az_range * (\n",
    "        1 - abs(i % (2 * az_time_width) / float(az_time_width) - 1)\n",
    "    ) + az_min) for i in range(nTime)])\n",
    "\n",
    "    mask_half_width = 50\n",
    "    mask = np.repeat([[(i % az_time_width < mask_half_width\n",
    "                        or i % az_time_width > az_time_width - mask_half_width\n",
    "                        ) for i in range(nTime)]], nCh, axis=0)\n",
    "\n",
    "    pixel_size = az_range / nPix\n",
    "\n",
    "    return input_array, az, mask, pixel_size"
   ]
  },
  {
   "cell_type": "code",
   "execution_count": null,
   "metadata": {
    "collapsed": false
   },
   "outputs": [],
   "source": [
    "temp=simulate_ground_input(100, 10000, 300)"
   ]
  },
  {
   "cell_type": "code",
   "execution_count": null,
   "metadata": {
    "collapsed": false
   },
   "outputs": [],
   "source": [
    "groundTime = %timeit -o ground_template_filter_array(*temp, lr=True)"
   ]
  },
  {
   "cell_type": "code",
   "execution_count": null,
   "metadata": {
    "collapsed": true
   },
   "outputs": [],
   "source": []
  }
 ],
 "metadata": {
  "kernelspec": {
   "display_name": "Python 2",
   "language": "python",
   "name": "python2"
  },
  "language_info": {
   "codemirror_mode": {
    "name": "ipython",
    "version": 2
   },
   "file_extension": ".py",
   "mimetype": "text/x-python",
   "name": "python",
   "nbconvert_exporter": "python",
   "pygments_lexer": "ipython2",
   "version": "2.7.13"
  }
 },
 "nbformat": 4,
 "nbformat_minor": 2
}
