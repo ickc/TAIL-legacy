{
 "cells": [
  {
   "cell_type": "code",
   "execution_count": 1,
   "metadata": {
    "collapsed": false,
    "deletable": true,
    "editable": true
   },
   "outputs": [],
   "source": [
    "%load_ext Cython"
   ]
  },
  {
   "cell_type": "code",
   "execution_count": 2,
   "metadata": {
    "collapsed": false,
    "deletable": true,
    "editable": true
   },
   "outputs": [],
   "source": [
    "%%cython\n",
    "\n",
    "import numpy as np\n",
    "cimport numpy as np\n",
    "import cython"
   ]
  },
  {
   "cell_type": "markdown",
   "metadata": {
    "deletable": true,
    "editable": true
   },
   "source": [
    "# Code"
   ]
  },
  {
   "cell_type": "code",
   "execution_count": 3,
   "metadata": {
    "collapsed": false,
    "deletable": true,
    "editable": true
   },
   "outputs": [],
   "source": [
    "# %%cython\n",
    "# # %%cython --annotate\n",
    "# import numpy as np\n",
    "# cimport numpy as np\n",
    "# import cython\n",
    "\n",
    "\n",
    "def simple_map_prepare(nCh, nPix):\n",
    "    \"\"\"\n",
    "    Prepare a simple map.\n",
    "    \n",
    "    Parameters\n",
    "    ----------\n",
    "    nCh: int\n",
    "        Number of channels\n",
    "    nPix: int\n",
    "        Number of pixels\n",
    "    \n",
    "    Returns\n",
    "    -------\n",
    "    signal_map: ndarray\n",
    "        an array of length nCh, where each entry is a length-nPix zero array.\n",
    "    hits_map: ndarray\n",
    "        same as above with dtype int32\n",
    "    \"\"\"\n",
    "    signal_map = np.zeros((nCh, nPix))\n",
    "    hits_map = np.zeros((nCh, nPix), dtype=np.int32)\n",
    "    return signal_map, hits_map"
   ]
  },
  {
   "cell_type": "code",
   "execution_count": 4,
   "metadata": {
    "collapsed": false,
    "deletable": true,
    "editable": true
   },
   "outputs": [],
   "source": [
    "# %%cython\n",
    "# # %%cython --annotate\n",
    "# import numpy as np\n",
    "# cimport numpy as np\n",
    "# import cython\n",
    "\n",
    "# simple_map_python\n",
    "\n",
    "\n",
    "def simple_map(signal_map, hits_map, pointing, mask, array):\n",
    "    # debug\n",
    "#     print(signal_map, hits_map, pointing, mask, array)\n",
    "\n",
    "    nCh, nt = array.shape\n",
    "    nPix = signal_map.shape[1]\n",
    "\n",
    "    for i in range(nCh):\n",
    "        for j in range(nt):\n",
    "            if mask[i, j]:\n",
    "                signal_map[i, pointing[j]] += array[i, j]\n",
    "                hits_map[i, pointing[j]] += 1\n",
    "    ok = hits_map > 0\n",
    "    signal_map[ok] /= hits_map[ok]\n",
    "\n",
    "    # debug\n",
    "#     print(signal_map, hits_map, pointing, mask, array)"
   ]
  },
  {
   "cell_type": "code",
   "execution_count": 5,
   "metadata": {
    "collapsed": false,
    "deletable": true,
    "editable": true
   },
   "outputs": [],
   "source": [
    "# %%cython\n",
    "# # %%cython --annotate\n",
    "# import numpy as np\n",
    "# cimport numpy as np\n",
    "# import cython\n",
    "\n",
    "# simple_scan_subtract_python\n",
    "\n",
    "\n",
    "def simple_scan_subtract(signal_map, pointing, array):\n",
    "    nCh, nt = array.shape\n",
    "    nPix = signal_map.shape[1]\n",
    "    for i in range(nCh):\n",
    "        for j in range(nt):\n",
    "            array[i, j] -= signal_map[i, pointing[j]]"
   ]
  },
  {
   "cell_type": "code",
   "execution_count": 6,
   "metadata": {
    "collapsed": false,
    "deletable": true,
    "editable": true
   },
   "outputs": [],
   "source": [
    "# %%cython\n",
    "# # %%cython --annotate\n",
    "# import numpy as np\n",
    "# cimport numpy as np\n",
    "# import cython\n",
    "\n",
    "def get_pointing(az, az_min, az_range, nPix):\n",
    "    \"\"\"\n",
    "    Parameters\n",
    "    ----------\n",
    "    az: ndarray\n",
    "        The azimuth of the timestream.\n",
    "    az_min: float\n",
    "        The minimum of az\n",
    "    az_range: float\n",
    "        maximum minus minimum of az\n",
    "    nPix: int\n",
    "        no. of pixels\n",
    "    Returns\n",
    "    -------\n",
    "    pointing: ndarray\n",
    "        for each elements in az, the corresponding elements in pointing\n",
    "        is the n-th number of pixel it is at.\n",
    "    \"\"\"\n",
    "    pointing = np.int_(np.floor(nPix * (az - az_min) / az_range))\n",
    "    # One point with az = az_max will end up one bin too far left\n",
    "    pointing[pointing == nPix] = nPix - 1\n",
    "    return pointing"
   ]
  },
  {
   "cell_type": "code",
   "execution_count": 7,
   "metadata": {
    "collapsed": false,
    "deletable": true,
    "editable": true
   },
   "outputs": [],
   "source": [
    "def ground_template_filter_array(\n",
    "        input_array,\n",
    "        az,\n",
    "        mask,\n",
    "        pixel_size,\n",
    "        groundmap=False,\n",
    "        lr=False,\n",
    "        filtmask=None):\n",
    "    '''\n",
    "    Remove ground template from array timestreams\n",
    "\n",
    "    Parameters\n",
    "    ----------\n",
    "    input_array: array_like\n",
    "        shape: (number of channels, number of time steps)\n",
    "        Input timestream, mutated inplace.\n",
    "    az: array_like\n",
    "        shape: input_array[0]\n",
    "        The azimuth of the timestream.\n",
    "    mask: array_like\n",
    "        shape: input_array\n",
    "        dtype: bool\n",
    "    pixel_size: float\n",
    "    groundmap: bool\n",
    "        If groundmap = True, then do the exact opposite,\n",
    "        and remove component from timestream that isn't fixed with the ground\n",
    "    lr: bool\n",
    "        If true, ground substraction done separately on left and right moving scans\n",
    "    filtmask: array_like\n",
    "        shape: input_array\n",
    "        dtype: bool\n",
    "        filtmask means to compute the filter template with that subset of the data,\n",
    "        operation is applied to data specified by mask\n",
    "        In largepatch filtmask refers to wafermask_chan_filt\n",
    "    '''\n",
    "    # initialize\n",
    "    nCh, nTime = input_array.shape\n",
    "    az_min = np.min(az)\n",
    "    az_max = np.max(az)\n",
    "    az_range = az_max - az_min\n",
    "    if filtmask is None:\n",
    "        filtmask = mask\n",
    "\n",
    "    assert input_array.shape == mask.shape == filtmask.shape\n",
    "    assert az.size == nTime\n",
    "\n",
    "    # Calculate number of pixels given the pixel size\n",
    "    nPix = int(np.round(az_range / pixel_size))\n",
    "    assert nPix > 3\n",
    "    # recalculate pixel_size (because nPix is int)\n",
    "    pixel_size = az_range / nPix\n",
    "\n",
    "    # bin at nPix is used as a junk pixel\n",
    "    signal_map, hits_map = simple_map_prepare(nCh, nPix + 1)\n",
    "    pointing = get_pointing(az, az_min, az_range, nPix)\n",
    "\n",
    "    if groundmap:\n",
    "        array_in = input_array.copy()\n",
    "\n",
    "    if lr:\n",
    "        vaz = np.gradient(az)\n",
    "        # select left / right moving timestream\n",
    "        l = vaz >= 0\n",
    "        r = vaz < 0\n",
    "        pointingL = pointing.copy()\n",
    "        pointingL[~l] = nPix\n",
    "        pointingR = pointing.copy()\n",
    "        pointingR[~r] = nPix\n",
    "\n",
    "        simple_map(signal_map, hits_map, pointingL, filtmask, input_array)\n",
    "        signal_map[:, nPix] = 0\n",
    "        simple_scan_subtract(signal_map, pointingL, input_array)\n",
    "        signal_map[:] = 0\n",
    "        hits_map[:] = 0\n",
    "        simple_map(signal_map, hits_map, pointingR, filtmask, input_array)\n",
    "        signal_map[:, nPix] = 0\n",
    "        simple_scan_subtract(signal_map, pointingR, input_array)\n",
    "    else:\n",
    "        simple_map(signal_map, hits_map, pointing, filtmask, input_array)\n",
    "        simple_scan_subtract(signal_map, pointing, input_array)\n",
    "\n",
    "    if groundmap:\n",
    "        input_array[:, :] = array_in - input_array"
   ]
  },
  {
   "cell_type": "markdown",
   "metadata": {
    "collapsed": true,
    "deletable": true,
    "editable": true
   },
   "source": [
    "# Tests"
   ]
  },
  {
   "cell_type": "code",
   "execution_count": 8,
   "metadata": {
    "collapsed": true,
    "deletable": true,
    "editable": true
   },
   "outputs": [],
   "source": [
    "import numpy as np\n",
    "from numpy.testing import assert_allclose\n",
    "\n",
    "def assertIdenticalList(list1, list2):\n",
    "    for i, list1i in enumerate(list1):\n",
    "        if isinstance(list1i, bool):\n",
    "            assert list1i is list2[i]\n",
    "        else:\n",
    "            assert_allclose(list1i, list2[i], rtol=1e-03)"
   ]
  },
  {
   "cell_type": "code",
   "execution_count": 9,
   "metadata": {
    "collapsed": false,
    "deletable": true,
    "editable": true
   },
   "outputs": [],
   "source": [
    "import pickle\n",
    "import sys\n",
    "py2 = sys.version_info[0] == 2\n",
    "\n",
    "\n",
    "def test_ground_template_filter_array():\n",
    "    with open('tests/timestream/ground_template_filter_array_input.pkl', 'rb') as f:\n",
    "        if not py2:\n",
    "            ground_template_filter_array_input = pickle.load(\n",
    "                f, encoding='latin1')\n",
    "        else:\n",
    "            ground_template_filter_array_input = pickle.load(f)\n",
    "    with open('tests/timestream/ground_template_filter_array_output.pkl', 'rb') as f:\n",
    "        if not py2:\n",
    "            ground_template_filter_array_output = pickle.load(\n",
    "                f, encoding='latin1')\n",
    "        else:\n",
    "            ground_template_filter_array_output = pickle.load(f)\n",
    "    ground_template_filter_array(*ground_template_filter_array_input)\n",
    "    assertIdenticalList(\n",
    "        ground_template_filter_array_input,\n",
    "        ground_template_filter_array_output)\n",
    "\n",
    "    # debug\n",
    "    return ground_template_filter_array_input, ground_template_filter_array_output"
   ]
  },
  {
   "cell_type": "markdown",
   "metadata": {
    "deletable": true,
    "editable": true
   },
   "source": [
    "# Playground"
   ]
  },
  {
   "cell_type": "code",
   "execution_count": 10,
   "metadata": {
    "collapsed": false,
    "deletable": true,
    "editable": true
   },
   "outputs": [],
   "source": [
    "with open('tests/timestream/ground_template_filter_array_input.pkl', 'rb') as f:\n",
    "    ground_template_filter_array_input = pickle.load(f, encoding='latin1')\n",
    "with open('tests/timestream/ground_template_filter_array_output.pkl', 'rb') as f:\n",
    "    ground_template_filter_array_output = pickle.load(f, encoding='latin1')"
   ]
  },
  {
   "cell_type": "code",
   "execution_count": 11,
   "metadata": {
    "collapsed": false,
    "deletable": true,
    "editable": true
   },
   "outputs": [
    {
     "name": "stdout",
     "output_type": "stream",
     "text": [
      "<class 'numpy.ndarray'> [[ 0.00239068  0.00086831  0.00415364 ..., -0.00705077  0.00699701\n",
      "  -0.01150024]]\n",
      "<class 'numpy.ndarray'> [ 3.53594566  3.53711146  3.53820095 ...,  3.64341665  3.64234824\n",
      "  3.64129303]\n",
      "<class 'numpy.ndarray'> [[ True  True  True ...,  True  True  True]]\n",
      "<class 'float'> 0.0013962634015954637\n",
      "<class 'bool'> False\n",
      "<class 'bool'> False\n",
      "<class 'numpy.ndarray'> [[ True  True  True ...,  True  True  True]]\n"
     ]
    }
   ],
   "source": [
    "for i in ground_template_filter_array_input:\n",
    "    print(type(i), i)"
   ]
  },
  {
   "cell_type": "code",
   "execution_count": 12,
   "metadata": {
    "collapsed": false,
    "deletable": true,
    "editable": true
   },
   "outputs": [
    {
     "name": "stdout",
     "output_type": "stream",
     "text": [
      "<class 'numpy.ndarray'> [[ 0.          0.0032052   0.00404837 ..., -0.0070533   0.00699448\n",
      "  -0.01087422]]\n",
      "<class 'numpy.ndarray'> [ 3.53594566  3.53711146  3.53820095 ...,  3.64341665  3.64234824\n",
      "  3.64129303]\n",
      "<class 'numpy.ndarray'> [[ True  True  True ...,  True  True  True]]\n",
      "<class 'numpy.float64'> 0.00139568480121\n",
      "<class 'bool'> False\n",
      "<class 'bool'> False\n",
      "<class 'numpy.ndarray'> [[ True  True  True ...,  True  True  True]]\n"
     ]
    }
   ],
   "source": [
    "for i in ground_template_filter_array_output:\n",
    "    print(type(i), i)"
   ]
  },
  {
   "cell_type": "code",
   "execution_count": 13,
   "metadata": {
    "collapsed": false,
    "deletable": true,
    "editable": true
   },
   "outputs": [
    {
     "name": "stdout",
     "output_type": "stream",
     "text": [
      "False\n",
      "True\n",
      "True\n",
      "False\n",
      "True\n",
      "True\n",
      "True\n"
     ]
    }
   ],
   "source": [
    "for i, __ in enumerate(ground_template_filter_array_input):\n",
    "    print(np.array_equal(ground_template_filter_array_input[i], ground_template_filter_array_output[i]))"
   ]
  },
  {
   "cell_type": "code",
   "execution_count": 14,
   "metadata": {
    "collapsed": false,
    "deletable": true,
    "editable": true
   },
   "outputs": [
    {
     "name": "stdout",
     "output_type": "stream",
     "text": [
      "float64\n",
      "float64\n",
      "bool\n",
      "bool\n"
     ]
    }
   ],
   "source": [
    "for i in ground_template_filter_array_input:\n",
    "    if type(i) == np.ndarray:\n",
    "        print(i.dtype)"
   ]
  },
  {
   "cell_type": "code",
   "execution_count": 15,
   "metadata": {
    "collapsed": true,
    "deletable": true,
    "editable": true
   },
   "outputs": [],
   "source": [
    "input_array, az, mask, pixel_size, groundmap, lr, filtmask = ground_template_filter_array_input"
   ]
  },
  {
   "cell_type": "code",
   "execution_count": 16,
   "metadata": {
    "collapsed": false,
    "deletable": true,
    "editable": true
   },
   "outputs": [
    {
     "data": {
      "text/plain": [
       "array([[ 0.00239068,  0.00086831,  0.00415364, ..., -0.00705077,\n",
       "         0.00699701, -0.01150024]])"
      ]
     },
     "execution_count": 16,
     "metadata": {},
     "output_type": "execute_result"
    }
   ],
   "source": [
    "input_array"
   ]
  },
  {
   "cell_type": "code",
   "execution_count": 17,
   "metadata": {
    "collapsed": true,
    "deletable": true,
    "editable": true
   },
   "outputs": [],
   "source": [
    "%matplotlib inline\n",
    "import matplotlib.pyplot as plt"
   ]
  },
  {
   "cell_type": "markdown",
   "metadata": {
    "deletable": true,
    "editable": true
   },
   "source": [
    "# Input plot"
   ]
  },
  {
   "cell_type": "code",
   "execution_count": 18,
   "metadata": {
    "collapsed": false,
    "deletable": true,
    "editable": true
   },
   "outputs": [
    {
     "data": {
      "text/plain": [
       "[<matplotlib.lines.Line2D at 0x10921a198>]"
      ]
     },
     "execution_count": 18,
     "metadata": {},
     "output_type": "execute_result"
    },
    {
     "data": {
      "image/png": "[encoded data removed]",
      "text/plain": [
       "<matplotlib.figure.Figure at 0x1079dccf8>"
      ]
     },
     "metadata": {},
     "output_type": "display_data"
    }
   ],
   "source": [
    "plt.plot(input_array[0])"
   ]
  },
  {
   "cell_type": "code",
   "execution_count": 19,
   "metadata": {
    "collapsed": false,
    "deletable": true,
    "editable": true
   },
   "outputs": [
    {
     "data": {
      "text/plain": [
       "[<matplotlib.lines.Line2D at 0x10947ab38>]"
      ]
     },
     "execution_count": 19,
     "metadata": {},
     "output_type": "execute_result"
    },
    {
     "data": {
      "image/png": "[encoded data removed]",
      "text/plain": [
       "<matplotlib.figure.Figure at 0x10921acc0>"
      ]
     },
     "metadata": {},
     "output_type": "display_data"
    }
   ],
   "source": [
    "plt.plot(input_array[0] * mask[0])"
   ]
  },
  {
   "cell_type": "code",
   "execution_count": 20,
   "metadata": {
    "collapsed": false,
    "deletable": true,
    "editable": true
   },
   "outputs": [
    {
     "data": {
      "text/plain": [
       "[<matplotlib.lines.Line2D at 0x109684198>]"
      ]
     },
     "execution_count": 20,
     "metadata": {},
     "output_type": "execute_result"
    },
    {
     "data": {
      "image/png": "[encoded data removed]",
      "text/plain": [
       "<matplotlib.figure.Figure at 0x10949fbe0>"
      ]
     },
     "metadata": {},
     "output_type": "display_data"
    }
   ],
   "source": [
    "plt.plot(az)"
   ]
  },
  {
   "cell_type": "code",
   "execution_count": 21,
   "metadata": {
    "collapsed": false,
    "deletable": true,
    "editable": true
   },
   "outputs": [
    {
     "data": {
      "text/plain": [
       "[<matplotlib.lines.Line2D at 0x10976a198>]"
      ]
     },
     "execution_count": 21,
     "metadata": {},
     "output_type": "execute_result"
    },
    {
     "data": {
      "image/png": "[encoded data removed]",
      "text/plain": [
       "<matplotlib.figure.Figure at 0x1096a0860>"
      ]
     },
     "metadata": {},
     "output_type": "display_data"
    }
   ],
   "source": [
    "plt.plot(mask[0])"
   ]
  },
  {
   "cell_type": "code",
   "execution_count": 22,
   "metadata": {
    "collapsed": false,
    "deletable": true,
    "editable": true
   },
   "outputs": [
    {
     "data": {
      "text/plain": [
       "[<matplotlib.lines.Line2D at 0x109878f28>]"
      ]
     },
     "execution_count": 22,
     "metadata": {},
     "output_type": "execute_result"
    },
    {
     "data": {
      "image/png": "[encoded data removed]",
      "text/plain": [
       "<matplotlib.figure.Figure at 0x109790240>"
      ]
     },
     "metadata": {},
     "output_type": "display_data"
    }
   ],
   "source": [
    "plt.plot(filtmask[0])"
   ]
  },
  {
   "cell_type": "code",
   "execution_count": 23,
   "metadata": {
    "collapsed": false,
    "deletable": true,
    "editable": true
   },
   "outputs": [
    {
     "data": {
      "text/plain": [
       "True"
      ]
     },
     "execution_count": 23,
     "metadata": {},
     "output_type": "execute_result"
    }
   ],
   "source": [
    "np.array_equal(mask[0], filtmask[0])"
   ]
  },
  {
   "cell_type": "markdown",
   "metadata": {
    "collapsed": true,
    "deletable": true,
    "editable": true
   },
   "source": [
    "# Output"
   ]
  },
  {
   "cell_type": "code",
   "execution_count": 27,
   "metadata": {
    "collapsed": false,
    "deletable": true,
    "editable": true
   },
   "outputs": [
    {
     "name": "stdout",
     "output_type": "stream",
     "text": [
      "10 loops, best of 3: 21.5 ms per loop\n"
     ]
    }
   ],
   "source": [
    "%%timeit\n",
    "output_array = input_array.copy()\n",
    "ground_template_filter_array(output_array, az, mask, pixel_size)"
   ]
  },
  {
   "cell_type": "code",
   "execution_count": 25,
   "metadata": {
    "collapsed": false,
    "deletable": true,
    "editable": true
   },
   "outputs": [
    {
     "data": {
      "text/plain": [
       "[<matplotlib.lines.Line2D at 0x10989c828>]"
      ]
     },
     "execution_count": 25,
     "metadata": {},
     "output_type": "execute_result"
    },
    {
     "data": {
      "image/png": "[encoded data removed]",
      "text/plain": [
       "<matplotlib.figure.Figure at 0x10989cc50>"
      ]
     },
     "metadata": {},
     "output_type": "display_data"
    }
   ],
   "source": [
    "plt.plot(output_array[0])"
   ]
  },
  {
   "cell_type": "code",
   "execution_count": 26,
   "metadata": {
    "collapsed": false,
    "deletable": true,
    "editable": true
   },
   "outputs": [
    {
     "data": {
      "text/plain": [
       "((array([[ 0.        ,  0.0032052 ,  0.00404837, ..., -0.0070533 ,\n",
       "           0.00699448, -0.01087422]]),\n",
       "  array([ 3.53594566,  3.53711146,  3.53820095, ...,  3.64341665,\n",
       "          3.64234824,  3.64129303]),\n",
       "  array([[ True,  True,  True, ...,  True,  True,  True]], dtype=bool),\n",
       "  0.0013962634015954637,\n",
       "  False,\n",
       "  False,\n",
       "  array([[ True,  True,  True, ...,  True,  True,  True]], dtype=bool)),\n",
       " (array([[ 0.        ,  0.0032052 ,  0.00404837, ..., -0.0070533 ,\n",
       "           0.00699448, -0.01087422]]),\n",
       "  array([ 3.53594566,  3.53711146,  3.53820095, ...,  3.64341665,\n",
       "          3.64234824,  3.64129303]),\n",
       "  array([[ True,  True,  True, ...,  True,  True,  True]], dtype=bool),\n",
       "  0.0013956848012076121,\n",
       "  False,\n",
       "  False,\n",
       "  array([[ True,  True,  True, ...,  True,  True,  True]], dtype=bool)))"
      ]
     },
     "execution_count": 26,
     "metadata": {},
     "output_type": "execute_result"
    }
   ],
   "source": [
    "test_ground_template_filter_array()"
   ]
  }
 ],
 "metadata": {
  "kernelspec": {
   "display_name": "Python 3",
   "language": "python",
   "name": "python3"
  },
  "language_info": {
   "codemirror_mode": {
    "name": "ipython",
    "version": 3
   },
   "file_extension": ".py",
   "mimetype": "text/x-python",
   "name": "python",
   "nbconvert_exporter": "python",
   "pygments_lexer": "ipython3",
   "version": "3.6.1"
  }
 },
 "nbformat": 4,
 "nbformat_minor": 2
}
