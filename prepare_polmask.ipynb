{
 "cells": [
  {
   "cell_type": "raw",
   "metadata": {},
   "source": [
    "!conda info --env"
   ]
  },
  {
   "cell_type": "raw",
   "metadata": {},
   "source": [
    "!make clean && make -j8"
   ]
  },
  {
   "cell_type": "code",
   "execution_count": null,
   "metadata": {
    "collapsed": true
   },
   "outputs": [],
   "source": [
    "from tests.helper import assertIdenticalList"
   ]
  },
  {
   "cell_type": "code",
   "execution_count": null,
   "metadata": {
    "collapsed": true
   },
   "outputs": [],
   "source": [
    "import sys\n",
    "py2 = sys.version_info[0] == 2"
   ]
  },
  {
   "cell_type": "code",
   "execution_count": null,
   "metadata": {
    "collapsed": true
   },
   "outputs": [],
   "source": [
    "if not py2:\n",
    "    import pickle\n",
    "else:\n",
    "    import cPickle as pickle"
   ]
  },
  {
   "cell_type": "code",
   "execution_count": null,
   "metadata": {
    "collapsed": true
   },
   "outputs": [],
   "source": [
    "import numpy as np\n",
    "from numpy import pi\n",
    "import scipy\n",
    "import scipy.signal"
   ]
  },
  {
   "cell_type": "code",
   "execution_count": null,
   "metadata": {},
   "outputs": [],
   "source": [
    "from tail.timestream.boundary_distance import boundary_distance"
   ]
  },
  {
   "cell_type": "code",
   "execution_count": null,
   "metadata": {
    "collapsed": true
   },
   "outputs": [],
   "source": [
    "with open('tests/timestream/prepare_polmask_input.pkl', 'rb') as f:\n",
    "    if not py2:\n",
    "        temp = pickle.load(f, encoding='latin1')\n",
    "    else:\n",
    "        temp = pickle.load(f)\n",
    "    weight = temp[\"weight\"]\n",
    "    width = temp[\"width\"]"
   ]
  },
  {
   "cell_type": "code",
   "execution_count": null,
   "metadata": {
    "collapsed": true
   },
   "outputs": [],
   "source": [
    "with open('tests/timestream/prepare_polmask_output.pkl', 'rb') as f:\n",
    "    if not py2:\n",
    "        temp = pickle.load(f, encoding='latin1')\n",
    "    else:\n",
    "        temp = pickle.load(f)\n",
    "    newpolmask = temp['newpolmask']"
   ]
  },
  {
   "cell_type": "raw",
   "metadata": {},
   "source": [
    "print(weight, width, newpolmask, sep='\\n\\n')"
   ]
  },
  {
   "cell_type": "code",
   "execution_count": null,
   "metadata": {
    "collapsed": true
   },
   "outputs": [],
   "source": [
    "def neighbor_count(mask):\n",
    "\tkernel = [[1,1,1],[1,0,1],[1,1,1]]\n",
    "\tnec = np.int_(np.round(scipy.signal.convolve2d(mask,kernel,mode='same')))\n",
    "\treturn nec"
   ]
  },
  {
   "cell_type": "code",
   "execution_count": null,
   "metadata": {
    "collapsed": true
   },
   "outputs": [],
   "source": [
    "def neighbor_count_cut(mask):\n",
    "\t'''\n",
    "\tEliminate the single pixel tendrils emanating out of masks\n",
    "\tRequire a pixel to have some number of unmasked neighbors\n",
    "\t'''\n",
    "\n",
    "\tkernel = [[1,1,1],[1,0,1],[1,1,1]]\n",
    "\tmaska = mask*1.0\n",
    "\n",
    "\tnmask = np.sum(mask)\n",
    "\tniter = 0\n",
    "\twhile True:\n",
    "\t\tnec = neighbor_count(mask)\n",
    "\t\tmask *= (nec >= 4)\n",
    "\t\tnmask2 = np.sum(mask)\n",
    "\t\tniter += 1\n",
    "\t\tif nmask2 == nmask: break\n",
    "\t\tnmask = nmask2"
   ]
  },
  {
   "cell_type": "code",
   "execution_count": null,
   "metadata": {
    "collapsed": true
   },
   "outputs": [],
   "source": [
    "def get_edge_pixels(win):\n",
    "\t'''Gets edge pixels of a 2d image. Edges are defined as a non-zero pixel where any of its 8 neighbors is zero\n",
    "\t\n",
    "\t@type win: numpy.ndarray\n",
    "\t@param win: the window function\n",
    "\t@rtype: numpy.ndarray\n",
    "\t@return: array with a value of 1 at the edges of the window function\n",
    "\t'''\n",
    "\t#create mask (1 to where it was non-zero)\n",
    "\tmask = np.ones(win.shape)\n",
    "\tmask[win == 0] = 0\n",
    "\n",
    "\t#8 pixels that are next to each pixel\n",
    "\toffp1x = np.roll(mask,1,axis=0)\n",
    "\toffm1x = np.roll(mask,-1,axis=0)\n",
    "\toffp1y = np.roll(mask,1,axis=1)\n",
    "\toffm1y = np.roll(mask,-1,axis=1)\n",
    "\toffp1xp1y = np.roll(offp1x,1,axis=1)\n",
    "\toffp1xm1y = np.roll(offp1x,-1,axis=1)\n",
    "\toffm1xp1y = np.roll(offm1x,1,axis=1)\n",
    "\toffm1xm1y = np.roll(offm1x,-1,axis=1)\n",
    "\n",
    "\t#Pixels that are not next to the edges are 1 in all shifts so anding everything will return True for anything that\n",
    "\t#is not next to an edge and in the mask\n",
    "\tpix_non_edge = (offp1x>0) & (offm1x>0) & (offp1y>0) & (offm1y>0) & (offp1xp1y>0) & (offp1xm1y>0) & (offm1xp1y>0) & (offm1xm1y>0) & (mask>0)\n",
    "\tedge_pix = pix_non_edge != mask\n",
    "\n",
    "\treturn edge_pix"
   ]
  },
  {
   "cell_type": "code",
   "execution_count": null,
   "metadata": {
    "collapsed": true
   },
   "outputs": [],
   "source": [
    "def smooth_window(win,ker_size=16):\n",
    "\t'''Smooth input window so that it and its gradients vanish on the boundary region. This \n",
    "\tis required for B_pure to be identically 0\n",
    "\t\n",
    "\t@type win: numpy.ndarray\n",
    "\t@param win: the window function\n",
    "\t@rtype: numpy.ndarray\n",
    "\t@return: the window function smoothed so that its value and its derivative go to 0 at the boundary'''\n",
    "\t#This is my attempt to do some sort of smoothing. Smoothing makes the gradient zero at the edges (hopefully), while \n",
    "\t#keeping the mask zero at the edges of our data\n",
    "\twin_temp = 1.0*win\n",
    "\n",
    "\tfor i in range(ker_size // 2):\n",
    "\t\twin_temp[get_edge_pixels(win_temp)] = 0\n",
    "\n",
    "\t#ker = np.ones([ker_size,ker_size])\n",
    "\n",
    "\tk1 = np.hamming(ker_size)\n",
    "\tk2x,k2y = np.meshgrid(k1,k1)\n",
    "\tker = k2x*k2y\n",
    "\tker /= np.sum(ker)\n",
    "\n",
    "\twin_smooth = scipy.signal.fftconvolve(win_temp,ker,mode='same')\n",
    "\treturn win_smooth"
   ]
  },
  {
   "cell_type": "code",
   "execution_count": null,
   "metadata": {
    "collapsed": true
   },
   "outputs": [],
   "source": [
    "def clamp_edge(in_mask,nexm, windowtype = 'hamming'):\n",
    "    n = in_mask.shape[0]\n",
    "    extra_mask = np.ones(n)\n",
    "    #edgecover = np.hamming(nexm*2)[:nexm]\n",
    "    edgecover = scipy.signal.get_window(windowtype, nexm*2)[:nexm]\n",
    "    extra_mask[:nexm] *= edgecover\n",
    "    extra_mask[-nexm:] *= edgecover[::-1]\n",
    "    extra_mask1,extra_mask2 = np.meshgrid(extra_mask,extra_mask)\n",
    "    extra_mask = extra_mask1*extra_mask2\n",
    "    mask = in_mask * extra_mask\n",
    "    return mask "
   ]
  },
  {
   "cell_type": "code",
   "execution_count": null,
   "metadata": {
    "collapsed": true
   },
   "outputs": [],
   "source": [
    "def prepare_polmask(weight,width):\n",
    "    '''\n",
    "    mask is boolean pixels to use that will specify the apodization\n",
    "    weight is the noise weighting\n",
    "    '''\n",
    "    mask = weight / np.max(weight) if np.max(weight) > 0. else np.zeros_like(weight)\n",
    "    mask = clamp_edge(mask,64)\n",
    "    goodpix = mask > 0.01\n",
    "    weight = smooth_window(weight)\n",
    "\n",
    "    neighbor_count_cut(goodpix)\n",
    "\n",
    "    distance = boundary_distance(goodpix)\n",
    "\n",
    "    c2mask = np.zeros_like(distance)\n",
    "    c2mask = (1.0/(2.0*pi))*np.sin(-2.0*pi*(distance/width)) + distance/width\n",
    "    c2mask[distance >= width] = 1.0\n",
    "\n",
    "    mask = weight / np.max(weight) if np.max(weight) > 0. else np.zeros_like(weight)\n",
    "    newpolmask = mask * c2mask\n",
    "\n",
    "    return newpolmask"
   ]
  },
  {
   "cell_type": "code",
   "execution_count": null,
   "metadata": {},
   "outputs": [],
   "source": [
    "newpolmask2 = prepare_polmask(weight,width)"
   ]
  },
  {
   "cell_type": "code",
   "execution_count": null,
   "metadata": {},
   "outputs": [],
   "source": [
    "assertIdenticalList(newpolmask, newpolmask2, atol=0.03)"
   ]
  },
  {
   "cell_type": "markdown",
   "metadata": {},
   "source": [
    "# Investigate"
   ]
  },
  {
   "cell_type": "code",
   "execution_count": null,
   "metadata": {},
   "outputs": [],
   "source": [
    "print(weight.shape, newpolmask.shape)"
   ]
  },
  {
   "cell_type": "code",
   "execution_count": null,
   "metadata": {},
   "outputs": [],
   "source": [
    "print(weight.dtype, type(width), newpolmask.dtype)"
   ]
  },
  {
   "cell_type": "code",
   "execution_count": null,
   "metadata": {
    "collapsed": true
   },
   "outputs": [],
   "source": []
  }
 ],
 "metadata": {
  "kernelspec": {
   "display_name": "ALL3-DEFAULTS",
   "language": "python",
   "name": "all3-defaults"
  },
  "language_info": {
   "codemirror_mode": {
    "name": "ipython",
    "version": 3
   },
   "file_extension": ".py",
   "mimetype": "text/x-python",
   "name": "python",
   "nbconvert_exporter": "python",
   "pygments_lexer": "ipython3",
   "version": "3.6.2"
  }
 },
 "nbformat": 4,
 "nbformat_minor": 2
}
