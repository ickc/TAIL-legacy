{
 "cells": [
  {
   "cell_type": "code",
   "execution_count": null,
   "metadata": {
    "collapsed": false,
    "deletable": true,
    "editable": true
   },
   "outputs": [],
   "source": [
    "%load_ext Cython"
   ]
  },
  {
   "cell_type": "code",
   "execution_count": null,
   "metadata": {
    "collapsed": false,
    "deletable": true,
    "editable": true
   },
   "outputs": [],
   "source": [
    "%%cython\n",
    "\n",
    "import numpy as np\n",
    "cimport numpy as np\n",
    "import cython"
   ]
  },
  {
   "cell_type": "code",
   "execution_count": null,
   "metadata": {
    "collapsed": false,
    "deletable": true,
    "editable": true
   },
   "outputs": [],
   "source": [
    "%matplotlib inline\n",
    "import matplotlib.pyplot as plt"
   ]
  },
  {
   "cell_type": "code",
   "execution_count": null,
   "metadata": {
    "collapsed": false,
    "deletable": true,
    "editable": true
   },
   "outputs": [],
   "source": [
    "import pickle"
   ]
  },
  {
   "cell_type": "markdown",
   "metadata": {
    "deletable": true,
    "editable": true
   },
   "source": [
    "# Input plot"
   ]
  },
  {
   "cell_type": "code",
   "execution_count": null,
   "metadata": {
    "collapsed": false,
    "deletable": true,
    "editable": true
   },
   "outputs": [],
   "source": [
    "with open('tests/timestream/ground_template_filter_array_input.pkl', 'rb') as f:\n",
    "    ground_template_filter_array_input = pickle.load(f, encoding='latin1')\n",
    "with open('tests/timestream/ground_template_filter_array_output.pkl', 'rb') as f:\n",
    "    ground_template_filter_array_output = pickle.load(f, encoding='latin1')"
   ]
  },
  {
   "cell_type": "code",
   "execution_count": null,
   "metadata": {
    "collapsed": false,
    "deletable": true,
    "editable": true
   },
   "outputs": [],
   "source": [
    "input_array, az, mask, pixel_size, groundmap, lr, filtmask = ground_template_filter_array_input"
   ]
  },
  {
   "cell_type": "code",
   "execution_count": null,
   "metadata": {
    "collapsed": false,
    "deletable": true,
    "editable": true
   },
   "outputs": [],
   "source": [
    "input_array.shape"
   ]
  },
  {
   "cell_type": "code",
   "execution_count": null,
   "metadata": {
    "collapsed": false,
    "deletable": true,
    "editable": true
   },
   "outputs": [],
   "source": [
    "plt.title('input_array')\n",
    "plt.plot(input_array[0], label='input_array')\n",
    "\n",
    "plt.plot(input_array[0] * filtmask[0], label='masked')"
   ]
  },
  {
   "cell_type": "code",
   "execution_count": null,
   "metadata": {
    "collapsed": false,
    "deletable": true,
    "editable": true
   },
   "outputs": [],
   "source": [
    "plt.title('Azmuth')\n",
    "plt.plot(az)\n",
    "axes = plt.gca()\n",
    "axes.set_ylim([-0.05,4])\n",
    "plt.plot(filtmask[0])"
   ]
  },
  {
   "cell_type": "markdown",
   "metadata": {
    "collapsed": true,
    "deletable": true,
    "editable": true
   },
   "source": [
    "# Output"
   ]
  },
  {
   "cell_type": "code",
   "execution_count": null,
   "metadata": {
    "collapsed": false
   },
   "outputs": [],
   "source": [
    "# epsilon\n",
    "7./3 - 4./3 - 1"
   ]
  },
  {
   "cell_type": "markdown",
   "metadata": {
    "deletable": true,
    "editable": true
   },
   "source": [
    "# Code"
   ]
  },
  {
   "cell_type": "code",
   "execution_count": null,
   "metadata": {
    "collapsed": false,
    "deletable": true,
    "editable": true,
    "scrolled": true
   },
   "outputs": [],
   "source": [
    "%%cython --annotate\n",
    "\n",
    "import numpy as np # --compile-args=-fopenmp --link-args=-fopenmp\n",
    "cimport numpy as np\n",
    "import cython\n",
    "\n",
    "from cython.view cimport array as cvarray\n",
    "from cpython cimport bool\n",
    "from cython.parallel import parallel, prange\n",
    "\n",
    "from libc.math cimport round\n",
    "from libc.stdlib cimport malloc, free\n",
    "\n",
    "from numpy.math cimport INFINITY\n",
    "cdef double EPSILON = 7./3 - 4./3 - 1\n",
    "\n",
    "@cython.boundscheck(False)\n",
    "@cython.wraparound(False)\n",
    "cdef inline double max(double[:] x):\n",
    "    cdef double max = -INFINITY\n",
    "    for i in range(x.shape[0]):\n",
    "        if x[i] > max:\n",
    "            max = x[i]\n",
    "    return max\n",
    "\n",
    "@cython.boundscheck(False)\n",
    "@cython.wraparound(False)\n",
    "cdef inline double min(double[:] x):\n",
    "    cdef double min = INFINITY\n",
    "    for i in range(x.shape[0]):\n",
    "        if x[i] < min:\n",
    "            min = x[i]\n",
    "    return min\n",
    "\n",
    "@cython.boundscheck(False)\n",
    "@cython.wraparound(False)\n",
    "@cython.cdivision(True)\n",
    "def ground_template_filter_array(\n",
    "        double[:, :] input_array,\n",
    "        double[:] az,\n",
    "        np.ndarray[np.uint8_t, cast=True, ndim=2] mask,\n",
    "        double pixel_size,\n",
    "        bool groundmap=False,\n",
    "        bool lr=False,\n",
    "        np.ndarray[np.uint8_t, cast=True, ndim=2] filtmask=None):\n",
    "    '''\n",
    "    Remove ground template from array timestreams\n",
    "\n",
    "    Parameters\n",
    "    ----------\n",
    "    input_array: array_like\n",
    "        shape: (number of channels, number of time steps)\n",
    "        Input timestream, mutated inplace.\n",
    "    az: array_like\n",
    "        shape: input_array[0]\n",
    "        The azimuth of the timestream.\n",
    "    mask: array_like\n",
    "        shape: input_array\n",
    "        dtype: bool\n",
    "    pixel_size: float\n",
    "    groundmap: bool\n",
    "        If groundmap = True, then do the exact opposite,\n",
    "        and remove component from timestream that isn't fixed with the ground\n",
    "    lr: bool\n",
    "        If true, ground substraction done separately on left and right moving scans\n",
    "    filtmask: array_like\n",
    "        shape: input_array\n",
    "        dtype: bool\n",
    "        default: None\n",
    "        filtmask is preprocessed from mask and addtional masking e.g. from point source\n",
    "        In largepatch filtmask refers to wafermask_chan_filt\n",
    "    '''\n",
    "    # initialize\n",
    "    if filtmask is not None:\n",
    "        mask = filtmask\n",
    "    cdef int nCh = input_array.shape[0]\n",
    "    cdef int nTime = input_array.shape[1]\n",
    "    cdef double az_min = min(az)\n",
    "    cdef double az_range = max(az) - az_min\n",
    "    # Calculate number of pixels given the pixel size\n",
    "    cdef int nPix = <int>round(az_range / pixel_size)\n",
    "\n",
    "    # get pointing: an array where each elements is the n-th bin\n",
    "    # beaware of the (n+1)-th bin that needs to be dealt with separately\n",
    "    cdef Py_ssize_t* pointing = <Py_ssize_t*>malloc(nTime * sizeof(Py_ssize_t))\n",
    "#     pointing_init = cvarray(shape=(nTime,), itemsize=sizeof(Py_ssize_t), format=\"i\")\n",
    "#     cdef Py_ssize_t[:] pointing = pointing_init\n",
    "    cdef double nPix_per_range = nPix / az_range\n",
    "    cdef Py_ssize_t i, j\n",
    "    for i in range(nTime):\n",
    "        # possible values: [0, 1, ..., nPix]\n",
    "        pointing[i] = <Py_ssize_t>((az[i] - az_min) * nPix_per_range)\n",
    "\n",
    "    # bins are arrays of pixels\n",
    "    cdef int nBin = nPix + 1\n",
    "    # the signal\n",
    "#     bins_signal = cvarray(shape=(nCh, nBin), itemsize=sizeof(double), format=\"i\")\n",
    "#     bins_signal[...] = 0\n",
    "#     # number of hits of signals\n",
    "#     bins_hit = cvarray(shape=(nCh, nBin), itemsize=sizeof(int), format=\"i\")\n",
    "#     bins_hit[...] = 0\n",
    "    cdef double[:, :] bins_signal = np.zeros((nCh, nBin))\n",
    "    # number of hits of signals\n",
    "    # the use of machine epsilon is to avoid special casing 0\n",
    "    cdef double[:, :] bins_hit = np.full((nCh, nBin), EPSILON)\n",
    "\n",
    "    cdef Py_ssize_t k\n",
    "    if not lr:\n",
    "        # calculate ground template\n",
    "        # TODO: SIMD\n",
    "        for i in range(nCh):\n",
    "            for j in range(nTime):\n",
    "                if mask[i, j]:\n",
    "                    k = pointing[j]\n",
    "                    bins_signal[i, k] += input_array[i, j]\n",
    "                    bins_hit[i, k] += 1\n",
    "                    # the following should be better for SIMD, but is slower for me\n",
    "#                 k = pointing[j]\n",
    "#                 bins_signal[i, k] += input_array[i, j] * mask[i, j]\n",
    "#                 bins_hit[i, k] += mask[i, j]\n",
    "        for i in range(nCh):\n",
    "            for j in range(nPix - 1):\n",
    "                bins_signal[i, j] /= bins_hit[i, j]\n",
    "            # combine last 2 bins to last pixel\n",
    "            bins_signal[i, nPix - 1] = \\\n",
    "                (bins_signal[i, nPix - 1] + bins_signal[i, nPix]) /\\\n",
    "                (bins_hit[i, nPix - 1] + bins_hit[i, nPix])\n",
    "        # substraction\n",
    "        for i in range(nCh):\n",
    "            for j in range(nTime):\n",
    "                input_array[i, j] -= bins_signal[i, pointing[j]]\n",
    "\n",
    "    free(pointing)"
   ]
  },
  {
   "cell_type": "code",
   "execution_count": null,
   "metadata": {
    "collapsed": false,
    "editable": true
   },
   "outputs": [],
   "source": [
    "%%timeit\n",
    "ground_template_filter_array(*simulate_ground_input(100, 10000, 300))"
   ]
  },
  {
   "cell_type": "code",
   "execution_count": null,
   "metadata": {
    "collapsed": false,
    "deletable": true,
    "editable": true
   },
   "outputs": [],
   "source": [
    "test_ground_template_filter_array()"
   ]
  },
  {
   "cell_type": "markdown",
   "metadata": {
    "collapsed": true,
    "deletable": true,
    "editable": true
   },
   "source": [
    "# Tests"
   ]
  },
  {
   "cell_type": "code",
   "execution_count": null,
   "metadata": {
    "collapsed": true,
    "deletable": true,
    "editable": true
   },
   "outputs": [],
   "source": [
    "import numpy as np\n",
    "from numpy.testing import assert_allclose\n",
    "\n",
    "def assertIdenticalList(list1, list2):\n",
    "    for i, list1i in enumerate(list1):\n",
    "        if isinstance(list1i, bool):\n",
    "            assert list1i is list2[i]\n",
    "        else:\n",
    "            assert_allclose(list1i, list2[i], rtol=1e-03, atol=1e-03)"
   ]
  },
  {
   "cell_type": "code",
   "execution_count": null,
   "metadata": {
    "collapsed": false,
    "deletable": true,
    "editable": true
   },
   "outputs": [],
   "source": [
    "import pickle\n",
    "import sys\n",
    "py2 = sys.version_info[0] == 2\n",
    "\n",
    "\n",
    "def test_ground_template_filter_array():\n",
    "    with open('tests/timestream/ground_template_filter_array_input.pkl', 'rb') as f:\n",
    "        if not py2:\n",
    "            ground_template_filter_array_input = pickle.load(\n",
    "                f, encoding='latin1')\n",
    "        else:\n",
    "            ground_template_filter_array_input = pickle.load(f)\n",
    "    with open('tests/timestream/ground_template_filter_array_output.pkl', 'rb') as f:\n",
    "        if not py2:\n",
    "            ground_template_filter_array_output = pickle.load(\n",
    "                f, encoding='latin1')\n",
    "        else:\n",
    "            ground_template_filter_array_output = pickle.load(f)\n",
    "    ground_template_filter_array(*ground_template_filter_array_input)\n",
    "    assertIdenticalList(\n",
    "        ground_template_filter_array_input,\n",
    "        ground_template_filter_array_output)\n",
    "\n",
    "    # debug\n",
    "    return ground_template_filter_array_input, ground_template_filter_array_output"
   ]
  },
  {
   "cell_type": "code",
   "execution_count": null,
   "metadata": {
    "collapsed": false
   },
   "outputs": [],
   "source": [
    "import numpy as np\n",
    "\n",
    "def simulate_ground_input(nCh, nTime, nPix):\n",
    "    az_time_width = 400\n",
    "    az_min = 3.5\n",
    "    az_max = 4.\n",
    "    az_range = az_max - az_min\n",
    "\n",
    "    input_array = (np.random.rand(nCh, nTime) - 0.5) * 0.2\n",
    "\n",
    "    az = np.array([(az_range * (1 - \n",
    "        abs(i % (2 * az_time_width) / float(az_time_width) - 1)) + az_min\n",
    "        ) for i in range(nTime)])\n",
    "\n",
    "    mask_half_width = 50\n",
    "    mask = np.repeat([[(i % az_time_width < mask_half_width\n",
    "             or i % az_time_width > az_time_width - mask_half_width\n",
    "            ) for i in range(nTime)]], nCh, axis=0)\n",
    "\n",
    "    pixel_size = az_range / nPix\n",
    "\n",
    "    return input_array, az, mask, pixel_size"
   ]
  },
  {
   "cell_type": "code",
   "execution_count": null,
   "metadata": {
    "collapsed": false
   },
   "outputs": [],
   "source": [
    "tests = simulate_ground_input(3, 10000, 300)"
   ]
  },
  {
   "cell_type": "code",
   "execution_count": null,
   "metadata": {
    "collapsed": false
   },
   "outputs": [],
   "source": [
    "[tests[i].shape for i in range(3)]"
   ]
  },
  {
   "cell_type": "code",
   "execution_count": null,
   "metadata": {
    "collapsed": false
   },
   "outputs": [],
   "source": [
    "tests[3]"
   ]
  },
  {
   "cell_type": "code",
   "execution_count": null,
   "metadata": {
    "collapsed": false
   },
   "outputs": [],
   "source": [
    "plt.plot(tests[0][0])\n",
    "plt.plot(tests[1])\n",
    "plt.plot(tests[2][0])"
   ]
  },
  {
   "cell_type": "code",
   "execution_count": null,
   "metadata": {
    "collapsed": true
   },
   "outputs": [],
   "source": [
    "def time_function(m, n):\n",
    "    FLOP = 4 * m * n + 2 * m + 4 * n + 3\n",
    "    FLOPS = 8 * 4.5 * 10**9\n",
    "    time = FLOP / FLOPS\n",
    "    return time"
   ]
  },
  {
   "cell_type": "code",
   "execution_count": null,
   "metadata": {
    "collapsed": false
   },
   "outputs": [],
   "source": [
    "time_function(100, 10000)"
   ]
  },
  {
   "cell_type": "markdown",
   "metadata": {
    "deletable": true,
    "editable": true
   },
   "source": [
    "# Playground"
   ]
  },
  {
   "cell_type": "code",
   "execution_count": null,
   "metadata": {
    "collapsed": true,
    "deletable": true,
    "editable": true
   },
   "outputs": [],
   "source": [
    "output_array = input_array.copy()"
   ]
  },
  {
   "cell_type": "code",
   "execution_count": null,
   "metadata": {
    "collapsed": false,
    "deletable": true,
    "editable": true
   },
   "outputs": [],
   "source": [
    "%%timeit\n",
    "ground_template_filter_array(output_array, az, mask, pixel_size)"
   ]
  },
  {
   "cell_type": "code",
   "execution_count": null,
   "metadata": {
    "collapsed": false,
    "deletable": true,
    "editable": true
   },
   "outputs": [],
   "source": [
    "output_array = input_array.copy()\n",
    "ground_template_filter_array(output_array, az, mask, pixel_size)"
   ]
  },
  {
   "cell_type": "code",
   "execution_count": null,
   "metadata": {
    "collapsed": false,
    "deletable": true,
    "editable": true
   },
   "outputs": [],
   "source": [
    "plt.title('diff')\n",
    "plt.plot(input_array[0] - input_array[0])"
   ]
  },
  {
   "cell_type": "code",
   "execution_count": null,
   "metadata": {
    "collapsed": false,
    "deletable": true,
    "editable": true
   },
   "outputs": [],
   "source": [
    "plt.title('diff')\n",
    "plt.plot(output_array[0] - ground_template_filter_array_output[0][0])"
   ]
  },
  {
   "cell_type": "raw",
   "metadata": {
    "collapsed": true,
    "deletable": true,
    "editable": true
   },
   "source": []
  }
 ],
 "metadata": {
  "anaconda-cloud": {},
  "kernelspec": {
   "display_name": "Python 3 (Intel)",
   "language": "python",
   "name": "idp3"
  },
  "language_info": {
   "codemirror_mode": {
    "name": "ipython",
    "version": 3
   },
   "file_extension": ".py",
   "mimetype": "text/x-python",
   "name": "python",
   "nbconvert_exporter": "python",
   "pygments_lexer": "ipython3",
   "version": "3.5.2"
  }
 },
 "nbformat": 4,
 "nbformat_minor": 2
}
