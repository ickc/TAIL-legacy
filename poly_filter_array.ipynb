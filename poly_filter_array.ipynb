{
 "cells": [
  {
   "cell_type": "code",
   "execution_count": 7,
   "metadata": {
    "collapsed": false
   },
   "outputs": [],
   "source": [
    "from __future__ import print_function\n",
    "#from builtins import range\n",
    "#from builtins import object\n",
    "import numpy as np"
   ]
  },
  {
   "cell_type": "code",
   "execution_count": 8,
   "metadata": {
    "collapsed": true
   },
   "outputs": [],
   "source": [
    "import sys\n",
    "py2 = sys.version_info[0] == 2"
   ]
  },
  {
   "cell_type": "code",
   "execution_count": 9,
   "metadata": {
    "collapsed": false
   },
   "outputs": [],
   "source": [
    "from tests.timestream.test_poly_filter_array import test_poly_filter_array"
   ]
  },
  {
   "cell_type": "code",
   "execution_count": 10,
   "metadata": {
    "collapsed": true
   },
   "outputs": [],
   "source": [
    "from tail.timestream.poly_filter_array import poly_filter_array"
   ]
  },
  {
   "cell_type": "code",
   "execution_count": 11,
   "metadata": {
    "collapsed": true
   },
   "outputs": [],
   "source": [
    "import pickle"
   ]
  },
  {
   "cell_type": "code",
   "execution_count": 12,
   "metadata": {
    "collapsed": true
   },
   "outputs": [],
   "source": [
    "%matplotlib inline\n",
    "import matplotlib.pyplot as plt"
   ]
  },
  {
   "cell_type": "markdown",
   "metadata": {},
   "source": [
    "# Data"
   ]
  },
  {
   "cell_type": "code",
   "execution_count": 13,
   "metadata": {
    "collapsed": false
   },
   "outputs": [],
   "source": [
    "with open('tests/timestream/poly_filter_array_input.pkl', 'rb') as f:\n",
    "    if not py2:\n",
    "        poly_filter_array_input = pickle.load(f, encoding='latin1')\n",
    "    else:\n",
    "        poly_filter_array_input = pickle.load(f)"
   ]
  },
  {
   "cell_type": "code",
   "execution_count": 14,
   "metadata": {
    "collapsed": true
   },
   "outputs": [],
   "source": [
    "with open('tests/timestream/poly_filter_array_output.pkl', 'rb') as f:\n",
    "    if not py2:\n",
    "        poly_filter_array_output = pickle.load(f, encoding='latin1')\n",
    "    else:\n",
    "        poly_filter_array_output = pickle.load(f)"
   ]
  },
  {
   "cell_type": "code",
   "execution_count": 15,
   "metadata": {
    "collapsed": true
   },
   "outputs": [],
   "source": [
    "coeff_out = test_poly_filter_array()"
   ]
  },
  {
   "cell_type": "markdown",
   "metadata": {},
   "source": [
    "# Plot"
   ]
  },
  {
   "cell_type": "markdown",
   "metadata": {},
   "source": [
    "### Understanding the content of the input output"
   ]
  },
  {
   "cell_type": "code",
   "execution_count": 16,
   "metadata": {
    "collapsed": false
   },
   "outputs": [
    {
     "name": "stdout",
     "output_type": "stream",
     "text": [
      "<type 'numpy.ndarray'> [[ 0.00535836  0.00064484 -0.00012384 ..., -0.00300279  0.00138122\n",
      "  -0.00629981]]\n",
      "<type 'numpy.ndarray'> [[False False False ..., False False False]]\n",
      "<type 'numpy.ndarray'> [[False False False ..., False False False]]\n",
      "<type 'list'> [(171, 397), (579, 398), (988, 397), (1396, 397), (1804, 398), (2213, 397), (2621, 397), (3029, 398), (3438, 397), (3846, 397), (4254, 398), (4663, 397), (5071, 397), (5479, 398), (5888, 397), (6296, 397), (6704, 398), (7113, 397), (7521, 397), (7929, 398), (8338, 397), (8746, 397), (9154, 398), (9563, 397), (9971, 397), (10379, 300)]\n",
      "<type 'int'> 0\n",
      "<type 'int'> 1\n",
      "<type 'float'> 0.75\n"
     ]
    }
   ],
   "source": [
    "for i in poly_filter_array_input:\n",
    "    print(type(i), i)"
   ]
  },
  {
   "cell_type": "code",
   "execution_count": 17,
   "metadata": {
    "collapsed": false
   },
   "outputs": [
    {
     "name": "stdout",
     "output_type": "stream",
     "text": [
      "<type 'numpy.ndarray'> [[[ -5.96569120e-05  -6.50556423e-04]\n",
      "  [  2.95152550e-05   5.95580100e-05]\n",
      "  [ -9.96152024e-05   1.32447861e-04]\n",
      "  [  5.96821606e-05   3.35578820e-04]\n",
      "  [  0.00000000e+00   0.00000000e+00]\n",
      "  [ -5.11309415e-05  -5.69171197e-05]\n",
      "  [  0.00000000e+00   0.00000000e+00]\n",
      "  [  2.19395632e-04   2.00922959e-04]\n",
      "  [  0.00000000e+00   0.00000000e+00]\n",
      "  [ -7.06160435e-05   1.78845023e-04]\n",
      "  [  0.00000000e+00   0.00000000e+00]\n",
      "  [  4.73473300e-04   1.10220380e-04]\n",
      "  [  0.00000000e+00   0.00000000e+00]\n",
      "  [ -4.92828996e-04  -5.05495350e-04]\n",
      "  [  0.00000000e+00   0.00000000e+00]\n",
      "  [  1.99553506e-04  -5.98798696e-04]\n",
      "  [  0.00000000e+00   0.00000000e+00]\n",
      "  [ -3.90620107e-04  -1.69336308e-04]\n",
      "  [  0.00000000e+00   0.00000000e+00]\n",
      "  [  0.00000000e+00   0.00000000e+00]\n",
      "  [  0.00000000e+00   0.00000000e+00]\n",
      "  [  3.63403509e-04   8.80708421e-05]\n",
      "  [  0.00000000e+00   0.00000000e+00]\n",
      "  [ -2.96074085e-04  -3.05961185e-04]\n",
      "  [  0.00000000e+00   0.00000000e+00]\n",
      "  [  1.53683104e-04   4.14195450e-04]]]\n"
     ]
    }
   ],
   "source": [
    "print(type(coeff_out), coeff_out)"
   ]
  },
  {
   "cell_type": "code",
   "execution_count": 18,
   "metadata": {
    "collapsed": false
   },
   "outputs": [
    {
     "name": "stdout",
     "output_type": "stream",
     "text": [
      "False\n",
      "True\n",
      "True\n",
      "True\n",
      "True\n",
      "True\n",
      "True\n"
     ]
    }
   ],
   "source": [
    "for i, __ in enumerate(poly_filter_array_input):\n",
    "    print(np.array_equal(poly_filter_array_input[i], poly_filter_array_output[i]))"
   ]
  },
  {
   "cell_type": "code",
   "execution_count": 19,
   "metadata": {
    "collapsed": false
   },
   "outputs": [
    {
     "name": "stdout",
     "output_type": "stream",
     "text": [
      "float64 (1, 10767)\n",
      "bool (1, 10767)\n",
      "bool (1, 10767)\n"
     ]
    }
   ],
   "source": [
    "for i in poly_filter_array_input:\n",
    "    if type(i) == np.ndarray:\n",
    "        print(i.dtype, i.shape)"
   ]
  },
  {
   "cell_type": "code",
   "execution_count": null,
   "metadata": {
    "collapsed": false,
    "scrolled": false
   },
   "outputs": [],
   "source": [
    "print(coeff_out.dtype, coeff_out.shape)"
   ]
  },
  {
   "cell_type": "code",
   "execution_count": 20,
   "metadata": {
    "collapsed": false,
    "scrolled": true
   },
   "outputs": [
    {
     "ename": "NameError",
     "evalue": "name 'scan_list' is not defined",
     "output_type": "error",
     "traceback": [
      "\u001b[1;31m\u001b[0m",
      "\u001b[1;31mNameError\u001b[0mTraceback (most recent call last)",
      "\u001b[1;32m<ipython-input-20-a658a7d159a6>\u001b[0m in \u001b[0;36m<module>\u001b[1;34m()\u001b[0m\n\u001b[1;32m----> 1\u001b[1;33m \u001b[1;32mfor\u001b[0m \u001b[0mi\u001b[0m \u001b[1;32min\u001b[0m \u001b[0mscan_list\u001b[0m\u001b[1;33m:\u001b[0m\u001b[1;33m\u001b[0m\u001b[0m\n\u001b[0m\u001b[0;32m      2\u001b[0m     \u001b[1;32mprint\u001b[0m\u001b[1;33m(\u001b[0m\u001b[0mtype\u001b[0m\u001b[1;33m(\u001b[0m\u001b[0mi\u001b[0m\u001b[1;33m[\u001b[0m\u001b[1;36m0\u001b[0m\u001b[1;33m]\u001b[0m\u001b[1;33m)\u001b[0m\u001b[1;33m,\u001b[0m \u001b[0mtype\u001b[0m\u001b[1;33m(\u001b[0m\u001b[0mi\u001b[0m\u001b[1;33m[\u001b[0m\u001b[1;36m1\u001b[0m\u001b[1;33m]\u001b[0m\u001b[1;33m)\u001b[0m\u001b[1;33m)\u001b[0m\u001b[1;33m\u001b[0m\u001b[0m\n",
      "\u001b[1;31mNameError\u001b[0m: name 'scan_list' is not defined"
     ]
    }
   ],
   "source": [
    "for i in scan_list:\n",
    "    print(type(i[0]), type(i[1]))"
   ]
  },
  {
   "cell_type": "code",
   "execution_count": null,
   "metadata": {
    "collapsed": true
   },
   "outputs": [],
   "source": [
    "input_array, mask_remove, mask, scan_list, ibegin, polyorder, minfrac = poly_filter_array_input"
   ]
  },
  {
   "cell_type": "code",
   "execution_count": null,
   "metadata": {
    "collapsed": true
   },
   "outputs": [],
   "source": [
    "output_array = poly_filter_array_output[0]"
   ]
  },
  {
   "cell_type": "code",
   "execution_count": null,
   "metadata": {
    "collapsed": false
   },
   "outputs": [],
   "source": [
    "input_array"
   ]
  },
  {
   "cell_type": "code",
   "execution_count": null,
   "metadata": {
    "collapsed": false,
    "scrolled": true
   },
   "outputs": [],
   "source": [
    "plt.plot(input_array[0])\n",
    "plt.plot(input_array[0] * mask[0])"
   ]
  },
  {
   "cell_type": "code",
   "execution_count": null,
   "metadata": {
    "collapsed": false
   },
   "outputs": [],
   "source": [
    "plt.plot(output_array[0])"
   ]
  },
  {
   "cell_type": "code",
   "execution_count": null,
   "metadata": {
    "collapsed": false,
    "scrolled": true
   },
   "outputs": [],
   "source": [
    "plt.plot(input_array[0] - output_array[0])"
   ]
  },
  {
   "cell_type": "code",
   "execution_count": null,
   "metadata": {
    "collapsed": false
   },
   "outputs": [],
   "source": [
    "np.array_equal(mask, mask_remove)"
   ]
  },
  {
   "cell_type": "code",
   "execution_count": null,
   "metadata": {
    "collapsed": false,
    "scrolled": true
   },
   "outputs": [],
   "source": [
    "axes = plt.gca()\n",
    "axes.set_ylim([-0.05, 1.05])\n",
    "plt.plot(mask_remove[0])"
   ]
  },
  {
   "cell_type": "code",
   "execution_count": null,
   "metadata": {
    "collapsed": true
   },
   "outputs": [],
   "source": [
    "scan_array = np.array(scan_list)"
   ]
  },
  {
   "cell_type": "code",
   "execution_count": null,
   "metadata": {
    "collapsed": false
   },
   "outputs": [],
   "source": [
    "scan_array.shape"
   ]
  },
  {
   "cell_type": "code",
   "execution_count": null,
   "metadata": {
    "collapsed": false
   },
   "outputs": [],
   "source": [
    "scan_array[:, 0]"
   ]
  },
  {
   "cell_type": "code",
   "execution_count": null,
   "metadata": {
    "collapsed": false
   },
   "outputs": [],
   "source": [
    "plt.plot(scan_array[:, 0], 'ro')\n",
    "plt.plot(scan_array[:, 1], 'bo')"
   ]
  },
  {
   "cell_type": "code",
   "execution_count": null,
   "metadata": {
    "collapsed": false
   },
   "outputs": [],
   "source": [
    "print(scan_list)"
   ]
  },
  {
   "cell_type": "code",
   "execution_count": null,
   "metadata": {
    "collapsed": false
   },
   "outputs": [],
   "source": [
    "scan_array[:, 0].min(), scan_array[:, 0].max()"
   ]
  },
  {
   "cell_type": "code",
   "execution_count": null,
   "metadata": {
    "collapsed": false
   },
   "outputs": [],
   "source": [
    "np.gradient(scan_array[:, 0])"
   ]
  },
  {
   "cell_type": "code",
   "execution_count": null,
   "metadata": {
    "collapsed": false
   },
   "outputs": [],
   "source": [
    "for i in range(len(scan_array[:, 0]) - 1):\n",
    "    print(scan_array[i + 1, 0] - scan_array[i, 0])"
   ]
  }
 ],
 "metadata": {
  "anaconda-cloud": {},
  "kernelspec": {
   "display_name": "Python 2.7",
   "language": "python",
   "name": "python2.7"
  },
  "language_info": {
   "codemirror_mode": {
    "name": "ipython",
    "version": 2
   },
   "file_extension": ".py",
   "mimetype": "text/x-python",
   "name": "python",
   "nbconvert_exporter": "python",
   "pygments_lexer": "ipython2",
   "version": "2.7.12"
  }
 },
 "nbformat": 4,
 "nbformat_minor": 2
}
