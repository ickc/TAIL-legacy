{
 "cells": [
  {
   "cell_type": "code",
   "execution_count": 1,
   "metadata": {
    "collapsed": true
   },
   "outputs": [],
   "source": [
    "from __future__ import print_function\n",
    "from builtins import range\n",
    "from builtins import object\n",
    "import numpy as np"
   ]
  },
  {
   "cell_type": "code",
   "execution_count": 2,
   "metadata": {
    "collapsed": true
   },
   "outputs": [],
   "source": [
    "class LegCache(object):\n",
    "    def __init__(self):\n",
    "        self.d = {}\n",
    "        pass\n",
    "\n",
    "    def prep_legendre(self, n, polyorder):\n",
    "        p = (n, polyorder)\n",
    "        if p not in self.d:\n",
    "            self.d[p] = prep_legendre(n, polyorder)\n",
    "        return self.d[p]"
   ]
  },
  {
   "cell_type": "code",
   "execution_count": 5,
   "metadata": {
    "collapsed": true
   },
   "outputs": [],
   "source": [
    "def prep_legendre(n, polyorder):\n",
    "    '''make array of legendre's'''\n",
    "    legendres = np.empty([n, polyorder + 1])\n",
    "    legendres[:, 0] = np.ones(n)\n",
    "    if polyorder > 0:\n",
    "        legendres[:, 1] = np.linspace(-1, 1, n)\n",
    "    for i in range(polyorder - 1):\n",
    "        l = i + 1\n",
    "        legendres[:,\n",
    "                  l + 1] = ((2 * l + 1) * legendres[:,\n",
    "                                                    1] * legendres[:,\n",
    "                                                                   l] - l * legendres[:,\n",
    "                                                                                      l - 1]) / (l + 1)\n",
    "\n",
    "    q, r = np.linalg.qr(legendres)\n",
    "    rinv = np.linalg.inv(r)\n",
    "    qt = q.T.copy()\n",
    "    return legendres, rinv, qt"
   ]
  },
  {
   "cell_type": "code",
   "execution_count": 6,
   "metadata": {
    "collapsed": true
   },
   "outputs": [],
   "source": [
    "def poly_filter_array(\n",
    "        array,\n",
    "        mask_remove,\n",
    "        mask,\n",
    "        scan_list,\n",
    "        ibegin,\n",
    "        polyorder,\n",
    "        minfrac=.75):\n",
    "    \"\"\" writes over input array\n",
    "    \"\"\"\n",
    "    nold = -1\n",
    "    # do nothing\n",
    "    if polyorder < 0:\n",
    "        return array\n",
    "    #damn, work\n",
    "    nch = array.shape[0]\n",
    "    nt = array.shape[1]\n",
    "    ns = len(scan_list)\n",
    "\n",
    "    coeff_out = np.zeros((nch, ns, polyorder + 1))\n",
    "\n",
    "    legcache = LegCache()\n",
    "\n",
    "    # remove mean\n",
    "    if polyorder == 0:\n",
    "        for s in range(len(scan_list)):\n",
    "            istart, n = scan_list[s]\n",
    "            start = istart - ibegin\n",
    "#\t\t\tarray[:,start:start+n] -= tile(np.mean(array[:,start:start+n]*mask[:,start:start+n],axis=1).reshape(nch,1),[1,n])\n",
    "            for i in range(nch):\n",
    "                if np.any(mask[i, start:start + n]):\n",
    "                    mean = np.average(\n",
    "                        array[i, start:start + n], weights=mask[i, start:start + n])\n",
    "                    array[i, start:start + n] -= mean\n",
    "                    coeff_out[i, s, 0] = mean\n",
    "\n",
    "    # other cases\n",
    "    if polyorder > 0:\n",
    "        for s in range(len(scan_list)):\n",
    "            istart, n = scan_list[s]\n",
    "            start = istart - ibegin\n",
    "            if n <= polyorder:  # otherwise cannot compute legendre polynomials\n",
    "                for i in range(nch):\n",
    "                    mask[i, start:start + n] = 0  # flag it\n",
    "                    # remove this region from actual data as well\n",
    "                    mask_remove[i, start:start + n] = 0\n",
    "                    print('Not enough points (%d) to build legendre of order (%d)' % (n, polyorder))\n",
    "                continue\n",
    "            goodhits = np.sum(mask[:, start:start + n], axis=1)\n",
    "            if n != nold:\n",
    "                legendres, rinv, qt = legcache.prep_legendre(n, polyorder)\n",
    "                rinvqt = np.dot(rinv, qt)\n",
    "                nold = n\n",
    "            # handle no masked ones\n",
    "\n",
    "            for i in range(nch):\n",
    "                if goodhits[i] != n:\n",
    "                    continue  # skip for now\n",
    "                # filter_slice_legendre_qr_nomask_precalc_inplace(array[i,start:start+n],legendres,rinvqt)\n",
    "                bolo = array[i, start:start + n]\n",
    "                coeff = np.dot(rinvqt, bolo)\n",
    "                coeff_out[i, s, :] = coeff\n",
    "                bolo -= np.dot(legendres, coeff)\n",
    "#\t\t\t\tarray[i,start:start+n] = filter_slice_legendre_qr_nomask_precalc(\n",
    "#\t\t\t\t\tarray[i,start:start+n], legendres,rinv,qt)\n",
    "\n",
    "            for i in range(nch):\n",
    "                if goodhits[i] == n:\n",
    "                    continue  # skip since dealt with above\n",
    "                if goodhits[i] < minfrac * n:  # not enough points\n",
    "                    mask[i, start:start + n] = 0  # flag it\n",
    "                    # remove this region from actual data as well\n",
    "                    mask_remove[i, start:start + n] = 0\n",
    "                    continue\n",
    "                bolo, coeff = filter_slice_legendre_qr_mask_precalc(\n",
    "                    array[i, start:start + n], mask[i, start:start + n], legendres)\n",
    "                array[i, start:start + n] = bolo\n",
    "                coeff_out[i, s, :] = coeff\n",
    "    return coeff_out"
   ]
  },
  {
   "cell_type": "code",
   "execution_count": 7,
   "metadata": {
    "collapsed": true
   },
   "outputs": [],
   "source": [
    "import numpy as np\n",
    "from numpy.testing import assert_allclose\n",
    "\n",
    "def assertIdenticalList(list1, list2):\n",
    "    for i, list1i in enumerate(list1):\n",
    "        if isinstance(list1i, bool):\n",
    "            assert list1i is list2[i]\n",
    "        else:\n",
    "            assert_allclose(list1i, list2[i], rtol=1e-03)"
   ]
  },
  {
   "cell_type": "code",
   "execution_count": 8,
   "metadata": {
    "collapsed": true
   },
   "outputs": [],
   "source": [
    "import pickle\n",
    "import sys\n",
    "py2 = sys.version_info[0] == 2\n",
    "\n",
    "def test_poly_filter_array():\n",
    "    with open('tests/timestream/poly_filter_array_input.pkl', 'rb') as f:\n",
    "        if not py2:\n",
    "            poly_filter_array_input = pickle.load(\n",
    "                f, encoding='latin1')\n",
    "        else:\n",
    "            poly_filter_array_input = pickle.load(f)\n",
    "    with open('tests/timestream/poly_filter_array_output.pkl', 'rb') as f:\n",
    "        if not py2:\n",
    "            poly_filter_array_output = pickle.load(\n",
    "                f, encoding='latin1')\n",
    "        else:\n",
    "            poly_filter_array_output = pickle.load(f)\n",
    "    poly_filter_array(*poly_filter_array_input)\n",
    "    assertIdenticalList(\n",
    "       poly_filter_array_input,\n",
    "        poly_filter_array_output)\n",
    "\n",
    "    # debug\n",
    "    return poly_filter_array_input, poly_filter_array_output"
   ]
  },
  {
   "cell_type": "code",
   "execution_count": 13,
   "metadata": {},
   "outputs": [],
   "source": [
    "with open('tests/timestream/poly_filter_array_input.pkl', 'rb') as f:\n",
    "    poly_filter_array_input = pickle.load(f)\n",
    "with open('tests/timestream/poly_filter_array_output.pkl', 'rb') as f:\n",
    "    poly_filter_array_output = pickle.load(f)"
   ]
  },
  {
   "cell_type": "code",
   "execution_count": 14,
   "metadata": {},
   "outputs": [
    {
     "name": "stdout",
     "output_type": "stream",
     "text": [
      "<type 'numpy.ndarray'> [[ 0.00535836  0.00064484 -0.00012384 ..., -0.00300279  0.00138122\n",
      "  -0.00629981]]\n",
      "<type 'numpy.ndarray'> [[False False False ..., False False False]]\n",
      "<type 'numpy.ndarray'> [[False False False ..., False False False]]\n",
      "<type 'list'> [(171, 397), (579, 398), (988, 397), (1396, 397), (1804, 398), (2213, 397), (2621, 397), (3029, 398), (3438, 397), (3846, 397), (4254, 398), (4663, 397), (5071, 397), (5479, 398), (5888, 397), (6296, 397), (6704, 398), (7113, 397), (7521, 397), (7929, 398), (8338, 397), (8746, 397), (9154, 398), (9563, 397), (9971, 397), (10379, 300)]\n",
      "<type 'int'> 0\n",
      "<type 'int'> 1\n",
      "<type 'float'> 0.75\n"
     ]
    }
   ],
   "source": [
    "for i in poly_filter_array_input:\n",
    "    print(type(i), i)"
   ]
  },
  {
   "cell_type": "code",
   "execution_count": 15,
   "metadata": {},
   "outputs": [
    {
     "name": "stdout",
     "output_type": "stream",
     "text": [
      "<type 'numpy.ndarray'> [[ 0.00535836  0.00064484 -0.00012384 ..., -0.00300279  0.00138122\n",
      "  -0.00629981]]\n",
      "<type 'numpy.ndarray'> [[False False False ..., False False False]]\n",
      "<type 'numpy.ndarray'> [[False False False ..., False False False]]\n",
      "<type 'list'> [(171, 397), (579, 398), (988, 397), (1396, 397), (1804, 398), (2213, 397), (2621, 397), (3029, 398), (3438, 397), (3846, 397), (4254, 398), (4663, 397), (5071, 397), (5479, 398), (5888, 397), (6296, 397), (6704, 398), (7113, 397), (7521, 397), (7929, 398), (8338, 397), (8746, 397), (9154, 398), (9563, 397), (9971, 397), (10379, 300)]\n",
      "<type 'int'> 0\n",
      "<type 'int'> 1\n",
      "<type 'float'> 0.75\n"
     ]
    }
   ],
   "source": [
    "for i in poly_filter_array_output:\n",
    "    print(type(i), i)"
   ]
  },
  {
   "cell_type": "code",
   "execution_count": 16,
   "metadata": {},
   "outputs": [
    {
     "name": "stdout",
     "output_type": "stream",
     "text": [
      "False\n",
      "True\n",
      "True\n",
      "True\n",
      "True\n",
      "True\n",
      "True\n"
     ]
    }
   ],
   "source": [
    "for i, __ in enumerate(poly_filter_array_input):\n",
    "    print(np.array_equal(poly_filter_array_input[i], poly_filter_array_output[i]))"
   ]
  },
  {
   "cell_type": "code",
   "execution_count": 17,
   "metadata": {},
   "outputs": [
    {
     "name": "stdout",
     "output_type": "stream",
     "text": [
      "float64\n",
      "bool\n",
      "bool\n"
     ]
    }
   ],
   "source": [
    "for i in poly_filter_array_input:\n",
    "    if type(i) == np.ndarray:\n",
    "        print(i.dtype)"
   ]
  },
  {
   "cell_type": "code",
   "execution_count": 18,
   "metadata": {
    "collapsed": true
   },
   "outputs": [],
   "source": [
    "input_array, mask_remove, mask, scan_list, ibegin, polyorder, minfrac = poly_filter_array_input"
   ]
  },
  {
   "cell_type": "code",
   "execution_count": 19,
   "metadata": {},
   "outputs": [
    {
     "data": {
      "text/plain": [
       "array([[ 0.00535836,  0.00064484, -0.00012384, ..., -0.00300279,\n",
       "         0.00138122, -0.00629981]])"
      ]
     },
     "execution_count": 19,
     "metadata": {},
     "output_type": "execute_result"
    }
   ],
   "source": [
    "input_array"
   ]
  },
  {
   "cell_type": "code",
   "execution_count": 23,
   "metadata": {},
   "outputs": [],
   "source": [
    "%matplotlib inline\n",
    "import matplotlib.pyplot as plt"
   ]
  },
  {
   "cell_type": "code",
   "execution_count": 24,
   "metadata": {},
   "outputs": [
    {
     "data": {
      "text/plain": [
       "[<matplotlib.lines.Line2D at 0x7f89c4e42050>]"
      ]
     },
     "execution_count": 24,
     "metadata": {},
     "output_type": "execute_result"
    },
    {
     "data": {
      "image/png": "[encoded data removed]",
      "text/plain": [
       "<matplotlib.figure.Figure at 0x7f89c4e9d890>"
      ]
     },
     "metadata": {},
     "output_type": "display_data"
    }
   ],
   "source": [
    "plt.plot(input_array[0])"
   ]
  },
  {
   "cell_type": "code",
   "execution_count": 25,
   "metadata": {},
   "outputs": [
    {
     "data": {
      "text/plain": [
       "[<matplotlib.lines.Line2D at 0x7f89c4566d50>]"
      ]
     },
     "execution_count": 25,
     "metadata": {},
     "output_type": "execute_result"
    },
    {
     "data": {
      "image/png": "[encoded data removed]",
      "text/plain": [
       "<matplotlib.figure.Figure at 0x7f89c45aa310>"
      ]
     },
     "metadata": {},
     "output_type": "display_data"
    }
   ],
   "source": [
    "plt.plot(input_array[0] * mask[0])"
   ]
  },
  {
   "cell_type": "code",
   "execution_count": null,
   "metadata": {
    "collapsed": true
   },
   "outputs": [],
   "source": []
  }
 ],
 "metadata": {
  "kernelspec": {
   "display_name": "Python 2",
   "language": "python",
   "name": "python2"
  },
  "language_info": {
   "codemirror_mode": {
    "name": "ipython",
    "version": 2
   },
   "file_extension": ".py",
   "mimetype": "text/x-python",
   "name": "python",
   "nbconvert_exporter": "python",
   "pygments_lexer": "ipython2",
   "version": "2.7.12"
  }
 },
 "nbformat": 4,
 "nbformat_minor": 2
}
