{
 "cells": [
  {
   "cell_type": "code",
   "execution_count": null,
   "metadata": {
    "collapsed": true
   },
   "outputs": [],
   "source": [
    "%load_ext Cython"
   ]
  },
  {
   "cell_type": "code",
   "execution_count": null,
   "metadata": {
    "collapsed": false,
    "deletable": true,
    "editable": true
   },
   "outputs": [],
   "source": [
    "import weave\n",
    "import numpy as np"
   ]
  },
  {
   "cell_type": "code",
   "execution_count": null,
   "metadata": {
    "collapsed": true
   },
   "outputs": [],
   "source": [
    "%matplotlib inline\n",
    "import matplotlib.pyplot as plt"
   ]
  },
  {
   "cell_type": "markdown",
   "metadata": {},
   "source": [
    "# Code"
   ]
  },
  {
   "cell_type": "code",
   "execution_count": null,
   "metadata": {
    "collapsed": true,
    "deletable": true,
    "editable": true
   },
   "outputs": [],
   "source": [
    "def boundary_set(mask):\n",
    "    ''' List pixels that are on the boundary of the mask '''\n",
    "    n = mask.shape[0]\n",
    "    i1 = np.arange(n)\n",
    "    j1 = np.arange(n)\n",
    "    j2,i2 = np.meshgrid(i1,j1)\n",
    "\n",
    "    dx,dy = np.gradient(mask)\n",
    "    boundary_map = (~mask) & (dx*dx + dy*dy != 0)\n",
    "\n",
    "    bi = i2[boundary_map]\n",
    "    bj = j2[boundary_map]\n",
    "\n",
    "    return bi,bj"
   ]
  },
  {
   "cell_type": "code",
   "execution_count": null,
   "metadata": {
    "collapsed": true,
    "deletable": true,
    "editable": true
   },
   "outputs": [],
   "source": [
    "def bounding_box(boundary):\n",
    "    ''' Build a bounding box for interior pixels '''\n",
    "\n",
    "    n = boundary.shape[0]\n",
    "    assert n == boundary.shape[1]\n",
    "    assert np.all((boundary == 0) | (boundary == 1))\n",
    "    imin = n+1\n",
    "    imax = -1\n",
    "    jmin = n+1\n",
    "    jmax = -1\n",
    "    iproj = np.product(boundary,axis=1)\n",
    "    jproj = np.product(boundary,axis=0)\n",
    "    for i in range(n):\n",
    "        if not iproj[i]:\n",
    "            if i < imin:\n",
    "                imin = i\n",
    "            if i > imax:\n",
    "                imax = i\n",
    "        if not jproj[i]:\n",
    "            if i < jmin:\n",
    "                jmin = i\n",
    "            if i > jmax:\n",
    "                jmax = i\n",
    "    \n",
    "    imin = max(0,imin-1)\n",
    "    jmin = max(0,jmin-1)\n",
    "    imax = min(n-1,imax+1)\n",
    "    jmax = min(n-1,jmax+1)\n",
    "    return imin,jmin,imax,jmax"
   ]
  },
  {
   "cell_type": "code",
   "execution_count": null,
   "metadata": {
    "collapsed": true,
    "deletable": true,
    "editable": true
   },
   "outputs": [],
   "source": [
    "def boundary_distance(mask):\n",
    "    '''\n",
    "    Find distance of points in mask to points on boundary of mask\n",
    "    The post office problem\n",
    "    '''\n",
    "    bi,bj = boundary_set(mask)\n",
    "    nb = len(bi)\n",
    "\n",
    "    imin,jmin,imax,jmax = bounding_box(mask)\n",
    "\n",
    "    c_code = '''\n",
    "    int b,i,j,i0,j0;\n",
    "    int d,di,dj;\n",
    "    for(b=0;b<nb;b++) {\n",
    "        i0 = bi(b);\n",
    "        j0 = bj(b);\n",
    "        if(i0 < imin) continue;\n",
    "        if(j0 < jmin) continue;\n",
    "        if(i0 > imax) continue;\n",
    "        if(j0 > jmax) continue;\n",
    "        for(i=imin;i<imax;i++) {\n",
    "            for(j=jmin;j<jmax;j++) {\n",
    "                if(mask(i,j)) {\n",
    "                    di = i - i0;\n",
    "                    dj = j - j0;\n",
    "                    d = di*di + dj*dj;\n",
    "                    if(d < distance(i,j)) {\n",
    "                        distance(i,j) = d;\n",
    "                    }\n",
    "                }\n",
    "            }\n",
    "        }\n",
    "    }\n",
    "    '''\n",
    "\n",
    "    n = mask.shape[0]\n",
    "    distance = np.zeros((n,n),dtype=np.int32) + 10*n*n\n",
    "    vars = 'nb n bi bj mask distance imin imax jmin jmax'.split()\n",
    "    weave.inline(c_code,vars,type_converters=weave.converters.blitz)\n",
    "\n",
    "    distance = np.sqrt(distance)\n",
    "    distance[~mask] = 0\n",
    "\n",
    "    return distance"
   ]
  },
  {
   "cell_type": "markdown",
   "metadata": {},
   "source": [
    "# Fake data"
   ]
  },
  {
   "cell_type": "code",
   "execution_count": null,
   "metadata": {
    "collapsed": false,
    "deletable": true,
    "editable": true
   },
   "outputs": [],
   "source": [
    "def circular_mask(n, r):\n",
    "    mask = np.zeros((n, n),dtype=bool)\n",
    "    for i in range(n):\n",
    "        for j in range(n):\n",
    "            if (i - n / 2)**2 + (j - n / 2)**2 < r**2:\n",
    "                mask[i][j]=True\n",
    "    return mask"
   ]
  },
  {
   "cell_type": "code",
   "execution_count": null,
   "metadata": {
    "collapsed": false
   },
   "outputs": [],
   "source": [
    "n = 1000\n",
    "r = 30\n",
    "mask = circular_mask(n, r)"
   ]
  },
  {
   "cell_type": "code",
   "execution_count": null,
   "metadata": {
    "collapsed": false
   },
   "outputs": [],
   "source": [
    "time = %timeit -o distance = boundary_distance(mask)"
   ]
  },
  {
   "cell_type": "code",
   "execution_count": null,
   "metadata": {
    "collapsed": false,
    "scrolled": true
   },
   "outputs": [],
   "source": [
    "time.best"
   ]
  },
  {
   "cell_type": "code",
   "execution_count": null,
   "metadata": {
    "collapsed": false
   },
   "outputs": [],
   "source": [
    "time = []\n",
    "N = range(7, 11, 1)\n",
    "for n in N:\n",
    "    d = 2**n\n",
    "    r = 2**n // 2 - 1\n",
    "    print(d, r)\n",
    "    mask = circular_mask(d, r)\n",
    "    temp = %timeit -o distance = boundary_distance(mask)\n",
    "    time.append(temp.best)"
   ]
  },
  {
   "cell_type": "code",
   "execution_count": null,
   "metadata": {
    "collapsed": false
   },
   "outputs": [],
   "source": [
    "plt.plot(N, time)"
   ]
  },
  {
   "cell_type": "code",
   "execution_count": null,
   "metadata": {
    "collapsed": false
   },
   "outputs": [],
   "source": [
    "distance = boundary_distance(mask)"
   ]
  },
  {
   "cell_type": "code",
   "execution_count": null,
   "metadata": {
    "collapsed": false
   },
   "outputs": [],
   "source": [
    "plt.plot(distance[n / 2])"
   ]
  },
  {
   "cell_type": "code",
   "execution_count": null,
   "metadata": {
    "collapsed": false
   },
   "outputs": [],
   "source": [
    "distance[n / 2, n - 1]"
   ]
  },
  {
   "cell_type": "code",
   "execution_count": null,
   "metadata": {
    "collapsed": true
   },
   "outputs": [],
   "source": [
    "bi, bj = boundary_set(mask)"
   ]
  },
  {
   "cell_type": "code",
   "execution_count": null,
   "metadata": {
    "collapsed": false
   },
   "outputs": [],
   "source": [
    "plt.plot(bi)\n",
    "plt.plot(bj)"
   ]
  },
  {
   "cell_type": "code",
   "execution_count": null,
   "metadata": {
    "collapsed": false
   },
   "outputs": [],
   "source": [
    "plt.plot(bi, bj)"
   ]
  },
  {
   "cell_type": "code",
   "execution_count": null,
   "metadata": {
    "collapsed": false,
    "scrolled": true
   },
   "outputs": [],
   "source": [
    "bounding_box(mask)"
   ]
  },
  {
   "cell_type": "markdown",
   "metadata": {},
   "source": [
    "# Timeit"
   ]
  },
  {
   "cell_type": "code",
   "execution_count": null,
   "metadata": {
    "collapsed": true
   },
   "outputs": [],
   "source": [
    "def circular_mask(n, r):\n",
    "    mask = np.zeros((n, n), dtype=bool)\n",
    "    for i in range(n):\n",
    "        for j in range(n):\n",
    "            if (i - n / 2) ** 2 + (j - n / 2) ** 2 < r ** 2:\n",
    "                mask[i][j] = True\n",
    "    return mask"
   ]
  },
  {
   "cell_type": "code",
   "execution_count": null,
   "metadata": {
    "collapsed": false
   },
   "outputs": [],
   "source": [
    "mask = circular_mask(1024, 128)"
   ]
  },
  {
   "cell_type": "code",
   "execution_count": null,
   "metadata": {
    "collapsed": false
   },
   "outputs": [],
   "source": [
    "%timeit -o distance = boundary_distance(mask)"
   ]
  },
  {
   "cell_type": "code",
   "execution_count": null,
   "metadata": {
    "collapsed": true
   },
   "outputs": [],
   "source": []
  }
 ],
 "metadata": {
  "kernelspec": {
   "display_name": "Python 2",
   "language": "python",
   "name": "python2"
  },
  "language_info": {
   "codemirror_mode": {
    "name": "ipython",
    "version": 2
   },
   "file_extension": ".py",
   "mimetype": "text/x-python",
   "name": "python",
   "nbconvert_exporter": "python",
   "pygments_lexer": "ipython2",
   "version": "2.7.13"
  }
 },
 "nbformat": 4,
 "nbformat_minor": 2
}
