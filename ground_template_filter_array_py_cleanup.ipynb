{
 "cells": [
  {
   "cell_type": "code",
   "execution_count": null,
   "metadata": {
    "collapsed": true,
    "deletable": true,
    "editable": true
   },
   "outputs": [],
   "source": [
    "%matplotlib inline\n",
    "import matplotlib.pyplot as plt"
   ]
  },
  {
   "cell_type": "code",
   "execution_count": null,
   "metadata": {
    "collapsed": false,
    "deletable": true,
    "editable": true
   },
   "outputs": [],
   "source": [
    "import pickle"
   ]
  },
  {
   "cell_type": "markdown",
   "metadata": {
    "deletable": true,
    "editable": true
   },
   "source": [
    "# Input plot"
   ]
  },
  {
   "cell_type": "code",
   "execution_count": null,
   "metadata": {
    "collapsed": false,
    "deletable": true,
    "editable": true
   },
   "outputs": [],
   "source": [
    "with open('tests/timestream/ground_template_filter_array_input.pkl', 'rb') as f:\n",
    "    ground_template_filter_array_input = pickle.load(f, encoding='latin1')\n",
    "with open('tests/timestream/ground_template_filter_array_output.pkl', 'rb') as f:\n",
    "    ground_template_filter_array_output = pickle.load(f, encoding='latin1')"
   ]
  },
  {
   "cell_type": "code",
   "execution_count": null,
   "metadata": {
    "collapsed": false,
    "deletable": true,
    "editable": true
   },
   "outputs": [],
   "source": [
    "input_array, az, mask, pixel_size, groundmap, lr, filtmask = ground_template_filter_array_input"
   ]
  },
  {
   "cell_type": "code",
   "execution_count": null,
   "metadata": {
    "collapsed": false,
    "deletable": true,
    "editable": true
   },
   "outputs": [],
   "source": [
    "input_array.shape"
   ]
  },
  {
   "cell_type": "code",
   "execution_count": null,
   "metadata": {
    "collapsed": false,
    "deletable": true,
    "editable": true
   },
   "outputs": [],
   "source": [
    "plt.title('input_array')\n",
    "plt.plot(input_array[0])"
   ]
  },
  {
   "cell_type": "code",
   "execution_count": null,
   "metadata": {
    "collapsed": false,
    "deletable": true,
    "editable": true
   },
   "outputs": [],
   "source": [
    "plt.title('input_array * filtmask')\n",
    "plt.plot(input_array[0] * filtmask[0])"
   ]
  },
  {
   "cell_type": "code",
   "execution_count": null,
   "metadata": {
    "collapsed": false,
    "deletable": true,
    "editable": true
   },
   "outputs": [],
   "source": [
    "plt.title('Azmuth')\n",
    "plt.plot(az)"
   ]
  },
  {
   "cell_type": "code",
   "execution_count": null,
   "metadata": {
    "collapsed": false,
    "deletable": true,
    "editable": true
   },
   "outputs": [],
   "source": [
    "plt.title('filtmask')\n",
    "plt.plot(filtmask[0])"
   ]
  },
  {
   "cell_type": "markdown",
   "metadata": {
    "collapsed": true,
    "deletable": true,
    "editable": true
   },
   "source": [
    "# Output"
   ]
  },
  {
   "cell_type": "markdown",
   "metadata": {
    "deletable": true,
    "editable": true
   },
   "source": [
    "# Code"
   ]
  },
  {
   "cell_type": "code",
   "execution_count": null,
   "metadata": {
    "collapsed": false,
    "deletable": true,
    "editable": true
   },
   "outputs": [],
   "source": [
    "def ground_template_filter_array(\n",
    "        input_array,\n",
    "        az,\n",
    "        mask,\n",
    "        pixel_size,\n",
    "        groundmap=False,\n",
    "        lr=False,\n",
    "        filtmask=None):\n",
    "    '''\n",
    "    Remove ground template from array timestreams\n",
    "\n",
    "    Parameters\n",
    "    ----------\n",
    "    input_array: array_like\n",
    "        shape: (number of channels, number of time steps)\n",
    "        Input timestream, mutated inplace.\n",
    "    az: array_like\n",
    "        shape: input_array[0]\n",
    "        The azimuth of the timestream.\n",
    "    mask: array_like\n",
    "        shape: input_array\n",
    "        dtype: bool\n",
    "    pixel_size: float\n",
    "    groundmap: bool\n",
    "        If groundmap = True, then do the exact opposite,\n",
    "        and remove component from timestream that isn't fixed with the ground\n",
    "    lr: bool\n",
    "        If true, ground substraction done separately on left and right moving scans\n",
    "    filtmask: array_like\n",
    "        shape: input_array\n",
    "        dtype: bool\n",
    "        default: None\n",
    "        filtmask is preprocessed from mask and addtional masking e.g. from point source\n",
    "        In largepatch filtmask refers to wafermask_chan_filt\n",
    "    '''\n",
    "    # initialize\n",
    "    if filtmask is not None:\n",
    "        mask = filtmask\n",
    "    nCh, nTime = input_array.shape\n",
    "    az_min = np.min(az)\n",
    "    az_range = np.max(az) - az_min\n",
    "\n",
    "    # Calculate number of pixels given the pixel size\n",
    "    nPix = int(np.round(az_range / pixel_size))\n",
    "    # an array where each entry is the n-th bin the pixel belongs to\n",
    "    nPix_per_range = nPix / az_range\n",
    "    pointing = np.int_((az - az_min) * nPix_per_range)\n",
    "    pointing[pointing == nPix] = nPix - 1\n",
    "\n",
    "    # bins are arrays of pixels\n",
    "    # the signal\n",
    "    bins_signal = np.zeros((nCh, nPix))\n",
    "    # number of hits of signals\n",
    "    bins_hit = np.zeros((nCh, nPix), dtype=np.int32)\n",
    "    if not lr:\n",
    "        # calculate ground template\n",
    "        for i in range(nCh):\n",
    "            for j in range(nTime):\n",
    "                k = pointing[j]\n",
    "                if mask[i, j]:\n",
    "                    bins_signal[i, k] += input_array[i, j]\n",
    "                    bins_hit[i, k] += 1\n",
    "        ok = bins_hit > 0\n",
    "        bins_signal[ok] /= bins_hit[ok]\n",
    "        # substraction\n",
    "        for i in range(nCh):\n",
    "            for j in range(nTime):\n",
    "                input_array[i, j] -= bins_signal[i, pointing[j]]"
   ]
  },
  {
   "cell_type": "markdown",
   "metadata": {
    "collapsed": true,
    "deletable": true,
    "editable": true
   },
   "source": [
    "# Tests"
   ]
  },
  {
   "cell_type": "code",
   "execution_count": null,
   "metadata": {
    "collapsed": true,
    "deletable": true,
    "editable": true
   },
   "outputs": [],
   "source": [
    "import numpy as np\n",
    "from numpy.testing import assert_allclose\n",
    "\n",
    "def assertIdenticalList(list1, list2):\n",
    "    for i, list1i in enumerate(list1):\n",
    "        if isinstance(list1i, bool):\n",
    "            assert list1i is list2[i]\n",
    "        else:\n",
    "            assert_allclose(list1i, list2[i], rtol=1e-03)"
   ]
  },
  {
   "cell_type": "code",
   "execution_count": null,
   "metadata": {
    "collapsed": false,
    "deletable": true,
    "editable": true
   },
   "outputs": [],
   "source": [
    "import pickle\n",
    "import sys\n",
    "py2 = sys.version_info[0] == 2\n",
    "\n",
    "\n",
    "def test_ground_template_filter_array():\n",
    "    with open('tests/timestream/ground_template_filter_array_input.pkl', 'rb') as f:\n",
    "        if not py2:\n",
    "            ground_template_filter_array_input = pickle.load(\n",
    "                f, encoding='latin1')\n",
    "        else:\n",
    "            ground_template_filter_array_input = pickle.load(f)\n",
    "    with open('tests/timestream/ground_template_filter_array_output.pkl', 'rb') as f:\n",
    "        if not py2:\n",
    "            ground_template_filter_array_output = pickle.load(\n",
    "                f, encoding='latin1')\n",
    "        else:\n",
    "            ground_template_filter_array_output = pickle.load(f)\n",
    "    ground_template_filter_array(*ground_template_filter_array_input)\n",
    "    assertIdenticalList(\n",
    "        ground_template_filter_array_input,\n",
    "        ground_template_filter_array_output)\n",
    "\n",
    "    # debug\n",
    "    return ground_template_filter_array_input, ground_template_filter_array_output"
   ]
  },
  {
   "cell_type": "markdown",
   "metadata": {
    "deletable": true,
    "editable": true
   },
   "source": [
    "# Playground"
   ]
  },
  {
   "cell_type": "code",
   "execution_count": null,
   "metadata": {
    "collapsed": false,
    "deletable": true,
    "editable": true
   },
   "outputs": [],
   "source": [
    "%%timeit\n",
    "output_array = input_array.copy()\n",
    "ground_template_filter_array(output_array, az, mask, pixel_size)"
   ]
  },
  {
   "cell_type": "code",
   "execution_count": null,
   "metadata": {
    "collapsed": true,
    "deletable": true,
    "editable": true
   },
   "outputs": [],
   "source": [
    "output_array = input_array.copy()"
   ]
  },
  {
   "cell_type": "code",
   "execution_count": null,
   "metadata": {
    "collapsed": false,
    "deletable": true,
    "editable": true
   },
   "outputs": [],
   "source": [
    "plt.title('diff')\n",
    "plt.plot(output_array[0] - ground_template_filter_array_output[0][0])"
   ]
  },
  {
   "cell_type": "code",
   "execution_count": null,
   "metadata": {
    "collapsed": false,
    "deletable": true,
    "editable": true
   },
   "outputs": [],
   "source": [
    "test_ground_template_filter_array()"
   ]
  },
  {
   "cell_type": "code",
   "execution_count": null,
   "metadata": {
    "collapsed": true,
    "deletable": true,
    "editable": true
   },
   "outputs": [],
   "source": []
  }
 ],
 "metadata": {
  "kernelspec": {
   "display_name": "Python 3",
   "language": "python",
   "name": "python3"
  },
  "language_info": {
   "codemirror_mode": {
    "name": "ipython",
    "version": 3
   },
   "file_extension": ".py",
   "mimetype": "text/x-python",
   "name": "python",
   "nbconvert_exporter": "python",
   "pygments_lexer": "ipython3",
   "version": "3.6.1"
  }
 },
 "nbformat": 4,
 "nbformat_minor": 2
}
