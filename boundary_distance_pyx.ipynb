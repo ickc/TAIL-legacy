{
 "cells": [
  {
   "cell_type": "code",
   "execution_count": null,
   "metadata": {
    "collapsed": true
   },
   "outputs": [],
   "source": [
    "%load_ext Cython"
   ]
  },
  {
   "cell_type": "code",
   "execution_count": null,
   "metadata": {
    "collapsed": false,
    "deletable": true,
    "editable": true
   },
   "outputs": [],
   "source": [
    "import numpy as np"
   ]
  },
  {
   "cell_type": "code",
   "execution_count": null,
   "metadata": {
    "collapsed": true
   },
   "outputs": [],
   "source": [
    "%matplotlib inline\n",
    "import matplotlib.pyplot as plt"
   ]
  },
  {
   "cell_type": "markdown",
   "metadata": {},
   "source": [
    "# Code"
   ]
  },
  {
   "cell_type": "code",
   "execution_count": null,
   "metadata": {
    "collapsed": true,
    "deletable": true,
    "editable": true
   },
   "outputs": [],
   "source": [
    "def boundary_set(mask):\n",
    "    ''' List pixels that are on the boundary of the mask '''\n",
    "    n = mask.shape[0]\n",
    "    i1 = np.arange(n)\n",
    "    j1 = np.arange(n)\n",
    "    j2,i2 = np.meshgrid(i1,j1)\n",
    "\n",
    "    dx,dy = np.gradient(mask)\n",
    "    boundary_map = (~mask) & (dx*dx + dy*dy != 0)\n",
    "\n",
    "    bi = i2[boundary_map]\n",
    "    bj = j2[boundary_map]\n",
    "\n",
    "    return bi,bj"
   ]
  },
  {
   "cell_type": "code",
   "execution_count": null,
   "metadata": {
    "collapsed": true,
    "deletable": true,
    "editable": true
   },
   "outputs": [],
   "source": [
    "def bounding_box(boundary):\n",
    "    ''' Build a bounding box for interior pixels '''\n",
    "\n",
    "    n = boundary.shape[0]\n",
    "    assert n == boundary.shape[1]\n",
    "    assert np.all((boundary == 0) | (boundary == 1))\n",
    "    imin = n+1\n",
    "    imax = -1\n",
    "    jmin = n+1\n",
    "    jmax = -1\n",
    "    iproj = np.product(boundary,axis=1)\n",
    "    jproj = np.product(boundary,axis=0)\n",
    "    for i in range(n):\n",
    "        if not iproj[i]:\n",
    "            if i < imin:\n",
    "                imin = i\n",
    "            if i > imax:\n",
    "                imax = i\n",
    "        if not jproj[i]:\n",
    "            if i < jmin:\n",
    "                jmin = i\n",
    "            if i > jmax:\n",
    "                jmax = i\n",
    "    \n",
    "    imin = max(0,imin-1)\n",
    "    jmin = max(0,jmin-1)\n",
    "    imax = min(n-1,imax+1)\n",
    "    jmax = min(n-1,jmax+1)\n",
    "    return imin,jmin,imax,jmax"
   ]
  },
  {
   "cell_type": "code",
   "execution_count": null,
   "metadata": {
    "collapsed": true,
    "deletable": true,
    "editable": true
   },
   "outputs": [],
   "source": [
    "def boundary_distance(mask):\n",
    "    '''\n",
    "    Find distance of points in mask to points on boundary of mask\n",
    "    The post office problem\n",
    "    '''\n",
    "    bi,bj = boundary_set(mask)\n",
    "    nb = len(bi)\n",
    "\n",
    "    imin,jmin,imax,jmax = bounding_box(mask)\n",
    "\n",
    "    c_code = '''\n",
    "    int b,i,j,i0,j0;\n",
    "    int d,di,dj;\n",
    "    for(b=0;b<nb;b++) {\n",
    "        i0 = bi(b);\n",
    "        j0 = bj(b);\n",
    "        if(i0 < imin) continue;\n",
    "        if(j0 < jmin) continue;\n",
    "        if(i0 > imax) continue;\n",
    "        if(j0 > jmax) continue;\n",
    "        for(i=imin;i<imax;i++) {\n",
    "            for(j=jmin;j<jmax;j++) {\n",
    "                if(mask(i,j)) {\n",
    "                    di = i - i0;\n",
    "                    dj = j - j0;\n",
    "                    d = di*di + dj*dj;\n",
    "                    if(d < distance(i,j)) {\n",
    "                        distance(i,j) = d;\n",
    "                    }\n",
    "                }\n",
    "            }\n",
    "        }\n",
    "    }\n",
    "    '''\n",
    "\n",
    "    n = mask.shape[0]\n",
    "    distance = np.zeros((n,n),dtype=np.int32) + 10*n*n\n",
    "    vars = 'nb n bi bj mask distance imin imax jmin jmax'.split()\n",
    "    weave.inline(c_code,vars,type_converters=weave.converters.blitz)\n",
    "\n",
    "    distance = np.sqrt(distance)\n",
    "    distance[~mask] = 0\n",
    "\n",
    "    return distance"
   ]
  },
  {
   "cell_type": "markdown",
   "metadata": {},
   "source": [
    "# Fake data"
   ]
  },
  {
   "cell_type": "code",
   "execution_count": null,
   "metadata": {
    "collapsed": false,
    "deletable": true,
    "editable": true
   },
   "outputs": [],
   "source": [
    "def circular_mask(n, r):\n",
    "    mask = np.zeros((n, n),dtype=bool)\n",
    "    for i in range(n):\n",
    "        for j in range(n):\n",
    "            if (i - n / 2)**2 + (j - n / 2)**2 < r**2:\n",
    "                mask[i][j]=True\n",
    "    return mask"
   ]
  },
  {
   "cell_type": "markdown",
   "metadata": {},
   "source": [
    "# New code"
   ]
  },
  {
   "cell_type": "code",
   "execution_count": null,
   "metadata": {
    "collapsed": false
   },
   "outputs": [],
   "source": [
    "%%cython --annotate\n",
    "\n",
    "import numpy as np\n",
    "cimport numpy as np\n",
    "\n",
    "cimport cython\n",
    "\n",
    "from libc.stdlib cimport malloc, calloc, free\n",
    "\n",
    "@cython.boundscheck(False)\n",
    "@cython.wraparound(False)\n",
    "cpdef get_start(np.ndarray[np.uint8_t, cast=True, ndim=2] mask):\n",
    "    m = mask.shape[0]\n",
    "    n = mask.shape[1]\n",
    "    for i in range(m):\n",
    "        for j in range(n):\n",
    "            if mask[i, j]:\n",
    "                return complex(i, j)\n",
    "\n",
    "\n",
    "\n",
    "class Turtle(object):\n",
    "    def __init__(self, start):\n",
    "        self.loc = start\n",
    "        self.direction = 1j\n",
    "    def walk(self):\n",
    "        self.loc += self.direction\n",
    "    def turn_left(self):\n",
    "        self.direction *= -1j\n",
    "    def turn_right(self):\n",
    "        self.direction *= 1j\n",
    "    def get_loc(self):\n",
    "        return self.loc\n",
    "\n",
    "\n",
    "@cython.boundscheck(False)\n",
    "@cython.wraparound(False)\n",
    "def get_boundary(mask, debug=False, stop=10):\n",
    "    start = get_start(mask)\n",
    "    boundary_list = [start]\n",
    "    boundary_set = {start}\n",
    "    turtle = Turtle(start)\n",
    "    if debug:\n",
    "        counter = 0\n",
    "    while True:\n",
    "        if debug:\n",
    "            print(turtle.get_loc())\n",
    "        loc = turtle.get_loc()\n",
    "        if mask[int(loc.real), int(loc.imag)]:\n",
    "            turtle.turn_left()\n",
    "        else:\n",
    "            turtle.turn_right()\n",
    "        turtle.walk()\n",
    "        loc = turtle.get_loc()\n",
    "        if mask[int(loc.real), int(loc.imag)]:\n",
    "            if loc not in boundary_set:\n",
    "                boundary_list.append(loc)\n",
    "                boundary_set.add(loc)\n",
    "        if debug:\n",
    "            counter += 1\n",
    "            if counter == stop:\n",
    "                break\n",
    "        if loc == start:\n",
    "            break\n",
    "    return boundary_list"
   ]
  },
  {
   "cell_type": "code",
   "execution_count": null,
   "metadata": {
    "collapsed": false
   },
   "outputs": [],
   "source": [
    "n = 6\n",
    "r = 2\n",
    "mask = circular_mask(n, r)\n",
    "boundary = get_boundary(mask, debug=False)"
   ]
  },
  {
   "cell_type": "code",
   "execution_count": null,
   "metadata": {
    "collapsed": false
   },
   "outputs": [],
   "source": [
    "assert boundary == [(2+2j), (3+2j), (4+2j), (4+3j), (4+4j), (3+4j), (2+4j), (2+3j)]"
   ]
  },
  {
   "cell_type": "code",
   "execution_count": null,
   "metadata": {
    "collapsed": true
   },
   "outputs": [],
   "source": []
  }
 ],
 "metadata": {
  "kernelspec": {
   "display_name": "Python3 (Intel)",
   "language": "python",
   "name": "idp3"
  },
  "language_info": {
   "codemirror_mode": {
    "name": "ipython",
    "version": 3
   },
   "file_extension": ".py",
   "mimetype": "text/x-python",
   "name": "python",
   "nbconvert_exporter": "python",
   "pygments_lexer": "ipython3",
   "version": "3.5.2"
  }
 },
 "nbformat": 4,
 "nbformat_minor": 2
}
