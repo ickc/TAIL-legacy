{
 "cells": [
  {
   "cell_type": "code",
   "execution_count": null,
   "metadata": {
    "collapsed": true
   },
   "outputs": [],
   "source": [
    "%load_ext Cython"
   ]
  },
  {
   "cell_type": "code",
   "execution_count": null,
   "metadata": {
    "collapsed": false,
    "deletable": true,
    "editable": true
   },
   "outputs": [],
   "source": [
    "import numpy as np"
   ]
  },
  {
   "cell_type": "code",
   "execution_count": null,
   "metadata": {
    "collapsed": true
   },
   "outputs": [],
   "source": [
    "%matplotlib inline\n",
    "import matplotlib.pyplot as plt"
   ]
  },
  {
   "cell_type": "markdown",
   "metadata": {},
   "source": [
    "# Fake data"
   ]
  },
  {
   "cell_type": "code",
   "execution_count": null,
   "metadata": {
    "collapsed": false,
    "deletable": true,
    "editable": true
   },
   "outputs": [],
   "source": [
    "def circular_mask(n, r):\n",
    "    mask = np.zeros((n, n),dtype=bool)\n",
    "    for i in range(n):\n",
    "        for j in range(n):\n",
    "            if (i - n / 2)**2 + (j - n / 2)**2 < r**2:\n",
    "                mask[i][j]=True\n",
    "    return mask"
   ]
  },
  {
   "cell_type": "markdown",
   "metadata": {},
   "source": [
    "# New code"
   ]
  },
  {
   "cell_type": "code",
   "execution_count": null,
   "metadata": {
    "collapsed": false
   },
   "outputs": [],
   "source": [
    "%%cython --annotate\n",
    "\n",
    "import numpy as np\n",
    "cimport numpy as np\n",
    "\n",
    "cimport cython\n",
    "\n",
    "from libc.stdlib cimport malloc, calloc, free\n",
    "\n",
    "@cython.boundscheck(False)\n",
    "@cython.wraparound(False)\n",
    "cpdef get_start(np.ndarray[np.uint8_t, cast=True, ndim=2] mask):\n",
    "    m = mask.shape[0]\n",
    "    n = mask.shape[1]\n",
    "    for i in range(m):\n",
    "        for j in range(n):\n",
    "            if mask[i, j]:\n",
    "                return complex(i, j)\n",
    "\n",
    "\n",
    "\n",
    "class Turtle(object):\n",
    "    def __init__(self, start):\n",
    "        self.loc = start\n",
    "        self.direction = 1j\n",
    "    def walk(self):\n",
    "        self.loc += self.direction\n",
    "    def turn_left(self):\n",
    "        self.direction *= -1j\n",
    "    def turn_right(self):\n",
    "        self.direction *= 1j\n",
    "    def get_loc(self):\n",
    "        return self.loc\n",
    "\n",
    "\n",
    "@cython.boundscheck(False)\n",
    "@cython.wraparound(False)\n",
    "def get_boundary(mask, debug=False, stop=10):\n",
    "    start = get_start(mask)\n",
    "    boundary_list = [start]\n",
    "    boundary_set = {start}\n",
    "    turtle = Turtle(start)\n",
    "    if debug:\n",
    "        counter = 0\n",
    "    while True:\n",
    "        if debug:\n",
    "            print(turtle.get_loc())\n",
    "        loc = turtle.get_loc()\n",
    "        if mask[int(loc.real), int(loc.imag)]:\n",
    "            turtle.turn_left()\n",
    "        else:\n",
    "            turtle.turn_right()\n",
    "        turtle.walk()\n",
    "        loc = turtle.get_loc()\n",
    "        if mask[int(loc.real), int(loc.imag)]:\n",
    "            if loc not in boundary_set:\n",
    "                boundary_list.append(loc)\n",
    "                boundary_set.add(loc)\n",
    "        if debug:\n",
    "            counter += 1\n",
    "            if counter == stop:\n",
    "                break\n",
    "        if loc == start:\n",
    "            break\n",
    "    return boundary_list"
   ]
  },
  {
   "cell_type": "code",
   "execution_count": null,
   "metadata": {
    "collapsed": false
   },
   "outputs": [],
   "source": [
    "n = 6\n",
    "r = 2\n",
    "mask = circular_mask(n, r)\n",
    "boundary = get_boundary(mask, debug=False)"
   ]
  },
  {
   "cell_type": "code",
   "execution_count": null,
   "metadata": {
    "collapsed": false
   },
   "outputs": [],
   "source": [
    "assert boundary == [(2+2j), (3+2j), (4+2j), (4+3j), (4+4j), (3+4j), (2+4j), (2+3j)]"
   ]
  },
  {
   "cell_type": "code",
   "execution_count": null,
   "metadata": {
    "collapsed": true
   },
   "outputs": [],
   "source": []
  }
 ],
 "metadata": {
  "kernelspec": {
   "display_name": "Python3 (Intel)",
   "language": "python",
   "name": "idp3"
  },
  "language_info": {
   "codemirror_mode": {
    "name": "ipython",
    "version": 3
   },
   "file_extension": ".py",
   "mimetype": "text/x-python",
   "name": "python",
   "nbconvert_exporter": "python",
   "pygments_lexer": "ipython3",
   "version": "3.5.2"
  }
 },
 "nbformat": 4,
 "nbformat_minor": 2
}
