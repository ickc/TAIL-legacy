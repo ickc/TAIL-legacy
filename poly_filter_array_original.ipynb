{
 "cells": [
  {
   "cell_type": "code",
   "execution_count": null,
   "metadata": {
    "collapsed": true
   },
   "outputs": [],
   "source": [
    "from tail.timestream.poly_filter_array_python import poly_filter_array"
   ]
  },
  {
   "cell_type": "code",
   "execution_count": null,
   "metadata": {
    "collapsed": true
   },
   "outputs": [],
   "source": [
    "import numpy as np"
   ]
  },
  {
   "cell_type": "code",
   "execution_count": null,
   "metadata": {
    "collapsed": false
   },
   "outputs": [],
   "source": [
    "def simulate_poly_input(nCh, nTime, polyorder):\n",
    "    az_time_width = 400\n",
    "\n",
    "    input_array = (np.random.rand(nCh, nTime) - 0.5) * 0.2\n",
    "\n",
    "    mask_half_width = 50\n",
    "    mask = np.repeat([[(i % az_time_width < mask_half_width\n",
    "                        or i % az_time_width > az_time_width - mask_half_width\n",
    "                        ) for i in range(nTime)]], nCh, axis=0)\n",
    "\n",
    "    scan0 = np.arange(171, 10000, 408)\n",
    "    scan1 = np.full_like(scan0, 397)\n",
    "    scan_list = np.dstack((scan0, scan1))[0]\n",
    "\n",
    "    return input_array, mask, mask, scan_list, 0, polyorder"
   ]
  },
  {
   "cell_type": "code",
   "execution_count": null,
   "metadata": {
    "collapsed": false
   },
   "outputs": [],
   "source": [
    "input = simulate_poly_input(10000, 10000, 4)"
   ]
  },
  {
   "cell_type": "code",
   "execution_count": null,
   "metadata": {
    "collapsed": false
   },
   "outputs": [],
   "source": [
    "%timeit poly_filter_array(*input)"
   ]
  },
  {
   "cell_type": "code",
   "execution_count": null,
   "metadata": {
    "collapsed": true
   },
   "outputs": [],
   "source": []
  }
 ],
 "metadata": {
  "kernelspec": {
   "display_name": "Python 2 (Intel)",
   "language": "python",
   "name": "idp2"
  },
  "language_info": {
   "codemirror_mode": {
    "name": "ipython",
    "version": 3
   },
   "file_extension": ".py",
   "mimetype": "text/x-python",
   "name": "python",
   "nbconvert_exporter": "python",
   "pygments_lexer": "ipython3",
   "version": "3.5.2"
  }
 },
 "nbformat": 4,
 "nbformat_minor": 1
}
